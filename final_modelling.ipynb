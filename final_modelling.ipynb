{
 "cells": [
  {
   "cell_type": "code",
   "execution_count": 0,
   "metadata": {
    "application/vnd.databricks.v1+cell": {
     "inputWidgets": {},
     "nuid": "0263f496-d33e-43c6-ba93-1f14f1240936",
     "showTitle": false,
     "title": ""
    }
   },
   "outputs": [
    {
     "data": {
      "text/html": [
       "<style scoped>\n",
       "  .ansiout {\n",
       "    display: block;\n",
       "    unicode-bidi: embed;\n",
       "    white-space: pre-wrap;\n",
       "    word-wrap: break-word;\n",
       "    word-break: break-all;\n",
       "    font-family: \"Source Code Pro\", \"Menlo\", monospace;;\n",
       "    font-size: 13px;\n",
       "    color: #555;\n",
       "    margin-left: 4px;\n",
       "    line-height: 19px;\n",
       "  }\n",
       "</style>\n",
       "<div class=\"ansiout\"></div>"
      ]
     },
     "metadata": {
      "application/vnd.databricks.v1+output": {
       "addedWidgets": {},
       "arguments": {},
       "data": "<div class=\"ansiout\"></div>",
       "datasetInfos": [],
       "metadata": {},
       "removedWidgets": [],
       "type": "html"
      }
     },
     "output_type": "display_data"
    }
   ],
   "source": [
    "from pyspark.sql import SparkSession\n",
    "from pyspark.sql.types import *\n",
    "import pyspark.sql.functions as F\n",
    "from datetime import datetime"
   ]
  },
  {
   "cell_type": "markdown",
   "metadata": {
    "application/vnd.databricks.v1+cell": {
     "inputWidgets": {},
     "nuid": "8e4abb71-6ace-4b74-a36d-fac5cf9df8d3",
     "showTitle": false,
     "title": ""
    }
   },
   "source": [
    "# Startup\n",
    "\n",
    "- Anthony\n",
    "  - Linear Regression\n",
    "  - Analytic goal: Assess whether viewership is affected by public sentiment\n",
    "- William\n",
    "  - Random Forest\n",
    "  - Analytic goal: Assess whether viewership is affected by public sentiment\n",
    "- Lawrence\n",
    "  - Gradient Boosted Trees \n",
    "  - Analytic goal: Assess whether viewership is affected by public sentiment"
   ]
  },
  {
   "cell_type": "code",
   "execution_count": 0,
   "metadata": {
    "application/vnd.databricks.v1+cell": {
     "inputWidgets": {},
     "nuid": "57794ff4-096a-4975-9ae4-2b34b729dd25",
     "showTitle": false,
     "title": ""
    }
   },
   "outputs": [
    {
     "data": {
      "text/html": [
       "<style scoped>\n",
       "  .ansiout {\n",
       "    display: block;\n",
       "    unicode-bidi: embed;\n",
       "    white-space: pre-wrap;\n",
       "    word-wrap: break-word;\n",
       "    word-break: break-all;\n",
       "    font-family: \"Source Code Pro\", \"Menlo\", monospace;;\n",
       "    font-size: 13px;\n",
       "    color: #555;\n",
       "    margin-left: 4px;\n",
       "    line-height: 19px;\n",
       "  }\n",
       "</style>\n",
       "<div class=\"ansiout\"></div>"
      ]
     },
     "metadata": {
      "application/vnd.databricks.v1+output": {
       "addedWidgets": {},
       "arguments": {},
       "data": "<div class=\"ansiout\"></div>",
       "datasetInfos": [],
       "metadata": {},
       "removedWidgets": [],
       "type": "html"
      }
     },
     "output_type": "display_data"
    }
   ],
   "source": [
    "def disp_normalize_mse(mse, divisor):\n",
    "    print(f\"Normalized MSE: {mse/divisor:.3f}\")"
   ]
  },
  {
   "cell_type": "code",
   "execution_count": 0,
   "metadata": {
    "application/vnd.databricks.v1+cell": {
     "inputWidgets": {},
     "nuid": "3515e666-d433-434c-a9f4-23762b446d02",
     "showTitle": false,
     "title": ""
    }
   },
   "outputs": [
    {
     "data": {
      "text/html": [
       "<style scoped>\n",
       "  .ansiout {\n",
       "    display: block;\n",
       "    unicode-bidi: embed;\n",
       "    white-space: pre-wrap;\n",
       "    word-wrap: break-word;\n",
       "    word-break: break-all;\n",
       "    font-family: \"Source Code Pro\", \"Menlo\", monospace;;\n",
       "    font-size: 13px;\n",
       "    color: #555;\n",
       "    margin-left: 4px;\n",
       "    line-height: 19px;\n",
       "  }\n",
       "</style>\n",
       "<div class=\"ansiout\"></div>"
      ]
     },
     "metadata": {
      "application/vnd.databricks.v1+output": {
       "addedWidgets": {},
       "arguments": {},
       "data": "<div class=\"ansiout\"></div>",
       "datasetInfos": [],
       "metadata": {},
       "removedWidgets": [],
       "type": "html"
      }
     },
     "output_type": "display_data"
    }
   ],
   "source": [
    "import time\n",
    "start = time.time()"
   ]
  },
  {
   "cell_type": "code",
   "execution_count": 0,
   "metadata": {
    "application/vnd.databricks.v1+cell": {
     "inputWidgets": {},
     "nuid": "6b41a0c9-2c52-42d8-800b-fa7c4cc989e0",
     "showTitle": false,
     "title": ""
    }
   },
   "outputs": [
    {
     "data": {
      "text/html": [
       "<style scoped>\n",
       "  .ansiout {\n",
       "    display: block;\n",
       "    unicode-bidi: embed;\n",
       "    white-space: pre-wrap;\n",
       "    word-wrap: break-word;\n",
       "    word-break: break-all;\n",
       "    font-family: \"Source Code Pro\", \"Menlo\", monospace;;\n",
       "    font-size: 13px;\n",
       "    color: #555;\n",
       "    margin-left: 4px;\n",
       "    line-height: 19px;\n",
       "  }\n",
       "</style>\n",
       "<div class=\"ansiout\"></div>"
      ]
     },
     "metadata": {
      "application/vnd.databricks.v1+output": {
       "addedWidgets": {},
       "arguments": {},
       "data": "<div class=\"ansiout\"></div>",
       "datasetInfos": [],
       "metadata": {},
       "removedWidgets": [],
       "type": "html"
      }
     },
     "output_type": "display_data"
    }
   ],
   "source": [
    "ss = SparkSession.builder.getOrCreate()\n",
    "sc = ss.sparkContext"
   ]
  },
  {
   "cell_type": "code",
   "execution_count": 0,
   "metadata": {
    "application/vnd.databricks.v1+cell": {
     "inputWidgets": {},
     "nuid": "557de84f-a001-48c8-8d8d-2a5164b0c1c1",
     "showTitle": false,
     "title": ""
    }
   },
   "outputs": [
    {
     "data": {
      "text/html": [
       "<style scoped>\n",
       "  .ansiout {\n",
       "    display: block;\n",
       "    unicode-bidi: embed;\n",
       "    white-space: pre-wrap;\n",
       "    word-wrap: break-word;\n",
       "    word-break: break-all;\n",
       "    font-family: \"Source Code Pro\", \"Menlo\", monospace;;\n",
       "    font-size: 13px;\n",
       "    color: #555;\n",
       "    margin-left: 4px;\n",
       "    line-height: 19px;\n",
       "  }\n",
       "</style>\n",
       "<div class=\"ansiout\"></div>"
      ]
     },
     "metadata": {
      "application/vnd.databricks.v1+output": {
       "addedWidgets": {},
       "arguments": {},
       "data": "<div class=\"ansiout\"></div>",
       "datasetInfos": [],
       "metadata": {},
       "removedWidgets": [],
       "type": "html"
      }
     },
     "output_type": "display_data"
    }
   ],
   "source": [
    "ss = SparkSession.builder.appName(\"rogan_sentiment_analysis\")\\\n",
    "                            .config(\"spark.jars.packages\", \"org.mongodb.spark:mongo-spark-connector_2.12:3.0.1\")\\\n",
    "                            .config(\"spark.network.timeout\", \"36000000s\")\\\n",
    "                            .config(\"spark.executor.heartbeatInterval\", \"3600s\")\\\n",
    "                            .getOrCreate()\n",
    "sc = spark.sparkContext"
   ]
  },
  {
   "cell_type": "code",
   "execution_count": 0,
   "metadata": {
    "application/vnd.databricks.v1+cell": {
     "inputWidgets": {},
     "nuid": "959a6993-54a9-4961-94fe-541ebf03b84a",
     "showTitle": false,
     "title": ""
    }
   },
   "outputs": [
    {
     "data": {
      "text/html": [
       "<style scoped>\n",
       "  .ansiout {\n",
       "    display: block;\n",
       "    unicode-bidi: embed;\n",
       "    white-space: pre-wrap;\n",
       "    word-wrap: break-word;\n",
       "    word-break: break-all;\n",
       "    font-family: \"Source Code Pro\", \"Menlo\", monospace;;\n",
       "    font-size: 13px;\n",
       "    color: #555;\n",
       "    margin-left: 4px;\n",
       "    line-height: 19px;\n",
       "  }\n",
       "</style>\n",
       "<div class=\"ansiout\"></div>"
      ]
     },
     "metadata": {
      "application/vnd.databricks.v1+output": {
       "addedWidgets": {},
       "arguments": {},
       "data": "<div class=\"ansiout\"></div>",
       "datasetInfos": [],
       "metadata": {},
       "removedWidgets": [],
       "type": "html"
      }
     },
     "output_type": "display_data"
    }
   ],
   "source": [
    "aws_access_key = ACCESS_KEY\n",
    "aws_secret_key = SECRET_KEY\n",
    "spark._jsc.hadoopConfiguration().set(\n",
    "    \"spark.jars.packages\", \"org.apache.hadoop:hadoop-aws:3.3.1\"\n",
    ")\n",
    "spark._jsc.hadoopConfiguration().set(\n",
    "    \"spark.hadoop.fs.s3a.impl\", \"org.apache.hadoop.fs.s3a.S3AFileSystem\"\n",
    ")\n",
    "spark._jsc.hadoopConfiguration().set(\"fs.s3a.access.key\", aws_access_key)\n",
    "spark._jsc.hadoopConfiguration().set(\"fs.s3a.secret.key\", aws_secret_key)"
   ]
  },
  {
   "cell_type": "code",
   "execution_count": 0,
   "metadata": {
    "application/vnd.databricks.v1+cell": {
     "inputWidgets": {},
     "nuid": "211633fb-e869-407e-909e-c205bf44d771",
     "showTitle": false,
     "title": ""
    }
   },
   "outputs": [
    {
     "data": {
      "text/html": [
       "<style scoped>\n",
       "  .ansiout {\n",
       "    display: block;\n",
       "    unicode-bidi: embed;\n",
       "    white-space: pre-wrap;\n",
       "    word-wrap: break-word;\n",
       "    word-break: break-all;\n",
       "    font-family: \"Source Code Pro\", \"Menlo\", monospace;;\n",
       "    font-size: 13px;\n",
       "    color: #555;\n",
       "    margin-left: 4px;\n",
       "    line-height: 19px;\n",
       "  }\n",
       "</style>\n",
       "<div class=\"ansiout\"></div>"
      ]
     },
     "metadata": {
      "application/vnd.databricks.v1+output": {
       "addedWidgets": {},
       "arguments": {},
       "data": "<div class=\"ansiout\"></div>",
       "datasetInfos": [],
       "metadata": {},
       "removedWidgets": [],
       "type": "html"
      }
     },
     "output_type": "display_data"
    }
   ],
   "source": [
    "database = DATABASE\n",
    "collection = COLLECTION\n",
    "user_name = USER_NAME\n",
    "password = PASSWORD\n",
    "address = ADDRESS\n",
    "connection_string = (\n",
    "    f\"mongodb+srv://{user_name}:{password}@{address}/{database}.{collection}\"\n",
    ")"
   ]
  },
  {
   "cell_type": "code",
   "execution_count": 0,
   "metadata": {
    "application/vnd.databricks.v1+cell": {
     "inputWidgets": {},
     "nuid": "dc78acde-a2cb-411b-bc57-7c24b2a84651",
     "showTitle": false,
     "title": ""
    }
   },
   "outputs": [
    {
     "data": {
      "text/html": [
       "<style scoped>\n",
       "  .ansiout {\n",
       "    display: block;\n",
       "    unicode-bidi: embed;\n",
       "    white-space: pre-wrap;\n",
       "    word-wrap: break-word;\n",
       "    word-break: break-all;\n",
       "    font-family: \"Source Code Pro\", \"Menlo\", monospace;;\n",
       "    font-size: 13px;\n",
       "    color: #555;\n",
       "    margin-left: 4px;\n",
       "    line-height: 19px;\n",
       "  }\n",
       "</style>\n",
       "<div class=\"ansiout\"></div>"
      ]
     },
     "metadata": {
      "application/vnd.databricks.v1+output": {
       "addedWidgets": {},
       "arguments": {},
       "data": "<div class=\"ansiout\"></div>",
       "datasetInfos": [],
       "metadata": {},
       "removedWidgets": [],
       "type": "html"
      }
     },
     "output_type": "display_data"
    }
   ],
   "source": [
    "rogan_schema = StructType(\n",
    "    [\n",
    "        StructField(\"week\", DateType(), False),\n",
    "        StructField(\"views_gained\", IntegerType(), False),\n",
    "        StructField(\"date\", DateType(), False),\n",
    "        StructField(\"text\", StringType(), True),\n",
    "        StructField(\"likes\", IntegerType(), True),\n",
    "        StructField(\"text_length\", IntegerType(), True),\n",
    "        StructField(\"hf_emot_label\", StringType(), True),\n",
    "        StructField(\"vader_sentiment_score\", FloatType(), True)\n",
    "    ]\n",
    ")"
   ]
  },
  {
   "cell_type": "code",
   "execution_count": 0,
   "metadata": {
    "application/vnd.databricks.v1+cell": {
     "inputWidgets": {},
     "nuid": "e70d1b53-2291-4ebc-9049-91444e80a66f",
     "showTitle": false,
     "title": ""
    }
   },
   "outputs": [
    {
     "data": {
      "text/html": [
       "<style scoped>\n",
       "  .ansiout {\n",
       "    display: block;\n",
       "    unicode-bidi: embed;\n",
       "    white-space: pre-wrap;\n",
       "    word-wrap: break-word;\n",
       "    word-break: break-all;\n",
       "    font-family: \"Source Code Pro\", \"Menlo\", monospace;;\n",
       "    font-size: 13px;\n",
       "    color: #555;\n",
       "    margin-left: 4px;\n",
       "    line-height: 19px;\n",
       "  }\n",
       "</style>\n",
       "<div class=\"ansiout\"></div>"
      ]
     },
     "metadata": {
      "application/vnd.databricks.v1+output": {
       "addedWidgets": {},
       "arguments": {},
       "data": "<div class=\"ansiout\"></div>",
       "datasetInfos": [],
       "metadata": {},
       "removedWidgets": [],
       "type": "html"
      }
     },
     "output_type": "display_data"
    }
   ],
   "source": [
    "database = DATABASE\n",
    "collection = COLLECTION\n",
    "user_name = USER_NAME\n",
    "password = PASSWORD\n",
    "address = ADDRESS\n",
    "connection_string = (\n",
    "    f\"mongodb+srv://{user_name}:{password}@{address}/{database}.{collection}\"\n",
    ")"
   ]
  },
  {
   "cell_type": "code",
   "execution_count": 0,
   "metadata": {
    "application/vnd.databricks.v1+cell": {
     "inputWidgets": {},
     "nuid": "faadafec-2afb-466a-b8ca-48e1a2c9720f",
     "showTitle": false,
     "title": ""
    }
   },
   "outputs": [
    {
     "data": {
      "text/html": [
       "<style scoped>\n",
       "  .ansiout {\n",
       "    display: block;\n",
       "    unicode-bidi: embed;\n",
       "    white-space: pre-wrap;\n",
       "    word-wrap: break-word;\n",
       "    word-break: break-all;\n",
       "    font-family: \"Source Code Pro\", \"Menlo\", monospace;;\n",
       "    font-size: 13px;\n",
       "    color: #555;\n",
       "    margin-left: 4px;\n",
       "    line-height: 19px;\n",
       "  }\n",
       "</style>\n",
       "<div class=\"ansiout\">+--------------------+-------------------+-------------+-----+--------------------+-----------+---------------------+------------+-------------------+\n",
       "                 _id|               date|hf_emot_label|likes|                text|text_length|vader_sentiment_score|views_gained|               week|\n",
       "+--------------------+-------------------+-------------+-----+--------------------+-----------+---------------------+------------+-------------------+\n",
       "{622c4e2d842a9536...|2021-09-30 07:00:00|          joy|    1|I enjoy Joe Rogan...|         88|    0.784500002861023|     8910349|2021-09-27 07:00:00|\n",
       "{622c4e2d842a9536...|2021-09-30 07:00:00|        anger|    0|@JohnMcCarthyMMA ...|         76|                  0.0|     8910349|2021-09-27 07:00:00|\n",
       "{622c4e2d842a9536...|2021-09-30 07:00:00|        anger|    1|@cenkuygur Chunk ...|        162|  -0.6820999979972839|     8910349|2021-09-27 07:00:00|\n",
       "{622c4e2d842a9536...|2021-09-30 07:00:00|      sadness|    0|@CaveDude111 He&#39;s...|        181|  0.16220000386238098|     8910349|2021-09-27 07:00:00|\n",
       "{622c4e2d842a9536...|2021-09-30 07:00:00|      sadness|    0|@cenkuygur @joero...|         45|  -0.5719000101089478|     8910349|2021-09-27 07:00:00|\n",
       "{622c4e2d842a9536...|2021-09-30 07:00:00|        anger|    1|@cenkuygur @joero...|        103|   0.5156999826431274|     8910349|2021-09-27 07:00:00|\n",
       "{622c4e2d842a9536...|2021-09-30 07:00:00|      sadness|    1|Finally a man wit...|        178|                  0.0|     8910349|2021-09-27 07:00:00|\n",
       "{622c4e2d842a9536...|2021-09-30 07:00:00|     surprise|    1|@cenkuygur @joero...|        144|    0.883400022983551|     8910349|2021-09-27 07:00:00|\n",
       "{622c4e2d842a9536...|2021-09-30 07:00:00|        anger|    0|@alex_ozarud @ela...|        101|                  0.0|     8910349|2021-09-27 07:00:00|\n",
       "{622c4e2d842a9536...|2021-09-30 07:00:00|        anger|    4|@BridgetPhetasy B...|        159|  -0.3253999948501587|     8910349|2021-09-27 07:00:00|\n",
       "{622c4e2d842a9536...|2021-09-30 07:00:00|          joy|    0|@Tlove4ucla @Real...|         41|                  0.0|     8910349|2021-09-27 07:00:00|\n",
       "{622c4e2d842a9536...|2021-09-30 07:00:00|          joy|    0|@JohnMcCarthyMMA ...|         91|  -0.2410999983549118|     8910349|2021-09-27 07:00:00|\n",
       "{622c4e2d842a9536...|2021-09-30 07:00:00|          joy|    1|Sign this shit up...|        162|  0.27140000462532043|     8910349|2021-09-27 07:00:00|\n",
       "{622c4e2d842a9536...|2021-09-30 07:00:00|        anger|    0|@NicoleArbour @st...|         65|                  0.0|     8910349|2021-09-27 07:00:00|\n",
       "{622c4e2d842a9536...|2021-09-30 07:00:00|        anger|    0|Please let this h...|        115|   0.3181999921798706|     8910349|2021-09-27 07:00:00|\n",
       "{622c4e2d842a9536...|2021-09-30 07:00:00|        anger|    0|@JohnMcCarthyMMA ...|         47|  0.29600000381469727|     8910349|2021-09-27 07:00:00|\n",
       "{622c4e2d842a9536...|2021-09-30 07:00:00|          joy|    1|@cenkuygur @joero...|         82|                  0.0|     8910349|2021-09-27 07:00:00|\n",
       "{622c4e2d842a9536...|2021-09-30 07:00:00|        anger|    8|@cenkuygur @joero...|         69| -0.45879998803138733|     8910349|2021-09-27 07:00:00|\n",
       "{622c4e2d842a9536...|2021-09-30 07:00:00|        anger|    0|@RawStory @joerog...|         31|  -0.3612000048160553|     8910349|2021-09-27 07:00:00|\n",
       "{622c4e2d842a9536...|2021-09-30 07:00:00|          joy|    0|@NoronhaBrennan @...|         56|   0.6596999764442444|     8910349|2021-09-27 07:00:00|\n",
       "+--------------------+-------------------+-------------+-----+--------------------+-----------+---------------------+------------+-------------------+\n",
       "only showing top 20 rows\n",
       "\n",
       "</div>"
      ]
     },
     "metadata": {
      "application/vnd.databricks.v1+output": {
       "addedWidgets": {},
       "arguments": {},
       "data": "<div class=\"ansiout\">+--------------------+-------------------+-------------+-----+--------------------+-----------+---------------------+------------+-------------------+\n|                 _id|               date|hf_emot_label|likes|                text|text_length|vader_sentiment_score|views_gained|               week|\n+--------------------+-------------------+-------------+-----+--------------------+-----------+---------------------+------------+-------------------+\n|{622c4e2d842a9536...|2021-09-30 07:00:00|          joy|    1|I enjoy Joe Rogan...|         88|    0.784500002861023|     8910349|2021-09-27 07:00:00|\n|{622c4e2d842a9536...|2021-09-30 07:00:00|        anger|    0|@JohnMcCarthyMMA ...|         76|                  0.0|     8910349|2021-09-27 07:00:00|\n|{622c4e2d842a9536...|2021-09-30 07:00:00|        anger|    1|@cenkuygur Chunk ...|        162|  -0.6820999979972839|     8910349|2021-09-27 07:00:00|\n|{622c4e2d842a9536...|2021-09-30 07:00:00|      sadness|    0|@CaveDude111 He&#39;s...|        181|  0.16220000386238098|     8910349|2021-09-27 07:00:00|\n|{622c4e2d842a9536...|2021-09-30 07:00:00|      sadness|    0|@cenkuygur @joero...|         45|  -0.5719000101089478|     8910349|2021-09-27 07:00:00|\n|{622c4e2d842a9536...|2021-09-30 07:00:00|        anger|    1|@cenkuygur @joero...|        103|   0.5156999826431274|     8910349|2021-09-27 07:00:00|\n|{622c4e2d842a9536...|2021-09-30 07:00:00|      sadness|    1|Finally a man wit...|        178|                  0.0|     8910349|2021-09-27 07:00:00|\n|{622c4e2d842a9536...|2021-09-30 07:00:00|     surprise|    1|@cenkuygur @joero...|        144|    0.883400022983551|     8910349|2021-09-27 07:00:00|\n|{622c4e2d842a9536...|2021-09-30 07:00:00|        anger|    0|@alex_ozarud @ela...|        101|                  0.0|     8910349|2021-09-27 07:00:00|\n|{622c4e2d842a9536...|2021-09-30 07:00:00|        anger|    4|@BridgetPhetasy B...|        159|  -0.3253999948501587|     8910349|2021-09-27 07:00:00|\n|{622c4e2d842a9536...|2021-09-30 07:00:00|          joy|    0|@Tlove4ucla @Real...|         41|                  0.0|     8910349|2021-09-27 07:00:00|\n|{622c4e2d842a9536...|2021-09-30 07:00:00|          joy|    0|@JohnMcCarthyMMA ...|         91|  -0.2410999983549118|     8910349|2021-09-27 07:00:00|\n|{622c4e2d842a9536...|2021-09-30 07:00:00|          joy|    1|Sign this shit up...|        162|  0.27140000462532043|     8910349|2021-09-27 07:00:00|\n|{622c4e2d842a9536...|2021-09-30 07:00:00|        anger|    0|@NicoleArbour @st...|         65|                  0.0|     8910349|2021-09-27 07:00:00|\n|{622c4e2d842a9536...|2021-09-30 07:00:00|        anger|    0|Please let this h...|        115|   0.3181999921798706|     8910349|2021-09-27 07:00:00|\n|{622c4e2d842a9536...|2021-09-30 07:00:00|        anger|    0|@JohnMcCarthyMMA ...|         47|  0.29600000381469727|     8910349|2021-09-27 07:00:00|\n|{622c4e2d842a9536...|2021-09-30 07:00:00|          joy|    1|@cenkuygur @joero...|         82|                  0.0|     8910349|2021-09-27 07:00:00|\n|{622c4e2d842a9536...|2021-09-30 07:00:00|        anger|    8|@cenkuygur @joero...|         69| -0.45879998803138733|     8910349|2021-09-27 07:00:00|\n|{622c4e2d842a9536...|2021-09-30 07:00:00|        anger|    0|@RawStory @joerog...|         31|  -0.3612000048160553|     8910349|2021-09-27 07:00:00|\n|{622c4e2d842a9536...|2021-09-30 07:00:00|          joy|    0|@NoronhaBrennan @...|         56|   0.6596999764442444|     8910349|2021-09-27 07:00:00|\n+--------------------+-------------------+-------------+-----+--------------------+-----------+---------------------+------------+-------------------+\nonly showing top 20 rows\n\n</div>",
       "datasetInfos": [],
       "metadata": {},
       "removedWidgets": [],
       "type": "html"
      }
     },
     "output_type": "display_data"
    }
   ],
   "source": [
    "df = spark.read.format(\"mongo\").option(\"uri\", connection_string).load()\n",
    "df.cache()\n",
    "df.show()"
   ]
  },
  {
   "cell_type": "code",
   "execution_count": 0,
   "metadata": {
    "application/vnd.databricks.v1+cell": {
     "inputWidgets": {},
     "nuid": "c5200414-48ca-436d-bb1b-2e94a0d33865",
     "showTitle": false,
     "title": ""
    }
   },
   "outputs": [
    {
     "data": {
      "text/html": [
       "<style scoped>\n",
       "  .ansiout {\n",
       "    display: block;\n",
       "    unicode-bidi: embed;\n",
       "    white-space: pre-wrap;\n",
       "    word-wrap: break-word;\n",
       "    word-break: break-all;\n",
       "    font-family: \"Source Code Pro\", \"Menlo\", monospace;;\n",
       "    font-size: 13px;\n",
       "    color: #555;\n",
       "    margin-left: 4px;\n",
       "    line-height: 19px;\n",
       "  }\n",
       "</style>\n",
       "<div class=\"ansiout\"></div>"
      ]
     },
     "metadata": {
      "application/vnd.databricks.v1+output": {
       "addedWidgets": {},
       "arguments": {},
       "data": "<div class=\"ansiout\"></div>",
       "datasetInfos": [],
       "metadata": {},
       "removedWidgets": [],
       "type": "html"
      }
     },
     "output_type": "display_data"
    }
   ],
   "source": [
    "df = df.drop(\"_id\")"
   ]
  },
  {
   "cell_type": "code",
   "execution_count": 0,
   "metadata": {
    "application/vnd.databricks.v1+cell": {
     "inputWidgets": {},
     "nuid": "48a70e38-140f-4e6d-97ac-feaa849eebbc",
     "showTitle": false,
     "title": ""
    }
   },
   "outputs": [
    {
     "data": {
      "text/html": [
       "<style scoped>\n",
       "  .ansiout {\n",
       "    display: block;\n",
       "    unicode-bidi: embed;\n",
       "    white-space: pre-wrap;\n",
       "    word-wrap: break-word;\n",
       "    word-break: break-all;\n",
       "    font-family: \"Source Code Pro\", \"Menlo\", monospace;;\n",
       "    font-size: 13px;\n",
       "    color: #555;\n",
       "    margin-left: 4px;\n",
       "    line-height: 19px;\n",
       "  }\n",
       "</style>\n",
       "<div class=\"ansiout\">root\n",
       "-- date: timestamp (nullable = true)\n",
       "-- hf_emot_label: string (nullable = true)\n",
       "-- likes: integer (nullable = true)\n",
       "-- text: string (nullable = true)\n",
       "-- text_length: integer (nullable = true)\n",
       "-- vader_sentiment_score: double (nullable = true)\n",
       "-- views_gained: integer (nullable = true)\n",
       "-- week: timestamp (nullable = true)\n",
       "\n",
       "</div>"
      ]
     },
     "metadata": {
      "application/vnd.databricks.v1+output": {
       "addedWidgets": {},
       "arguments": {},
       "data": "<div class=\"ansiout\">root\n |-- date: timestamp (nullable = true)\n |-- hf_emot_label: string (nullable = true)\n |-- likes: integer (nullable = true)\n |-- text: string (nullable = true)\n |-- text_length: integer (nullable = true)\n |-- vader_sentiment_score: double (nullable = true)\n |-- views_gained: integer (nullable = true)\n |-- week: timestamp (nullable = true)\n\n</div>",
       "datasetInfos": [],
       "metadata": {},
       "removedWidgets": [],
       "type": "html"
      }
     },
     "output_type": "display_data"
    }
   ],
   "source": [
    "df.printSchema()"
   ]
  },
  {
   "cell_type": "code",
   "execution_count": 0,
   "metadata": {
    "application/vnd.databricks.v1+cell": {
     "inputWidgets": {},
     "nuid": "f5424f18-e653-4ba9-af74-d311f44b0bf5",
     "showTitle": false,
     "title": ""
    }
   },
   "outputs": [
    {
     "data": {
      "text/html": [
       "<style scoped>\n",
       "  .ansiout {\n",
       "    display: block;\n",
       "    unicode-bidi: embed;\n",
       "    white-space: pre-wrap;\n",
       "    word-wrap: break-word;\n",
       "    word-break: break-all;\n",
       "    font-family: \"Source Code Pro\", \"Menlo\", monospace;;\n",
       "    font-size: 13px;\n",
       "    color: #555;\n",
       "    margin-left: 4px;\n",
       "    line-height: 19px;\n",
       "  }\n",
       "</style>\n",
       "<div class=\"ansiout\"></div>"
      ]
     },
     "metadata": {
      "application/vnd.databricks.v1+output": {
       "addedWidgets": {},
       "arguments": {},
       "data": "<div class=\"ansiout\"></div>",
       "datasetInfos": [],
       "metadata": {},
       "removedWidgets": [],
       "type": "html"
      }
     },
     "output_type": "display_data"
    }
   ],
   "source": [
    "view_mean = df.agg({\"views_gained\":\"mean\"})"
   ]
  },
  {
   "cell_type": "code",
   "execution_count": 0,
   "metadata": {
    "application/vnd.databricks.v1+cell": {
     "inputWidgets": {},
     "nuid": "e67d759e-c572-4f7d-b31e-464ddd17fb32",
     "showTitle": false,
     "title": ""
    }
   },
   "outputs": [
    {
     "data": {
      "text/html": [
       "<style scoped>\n",
       "  .ansiout {\n",
       "    display: block;\n",
       "    unicode-bidi: embed;\n",
       "    white-space: pre-wrap;\n",
       "    word-wrap: break-word;\n",
       "    word-break: break-all;\n",
       "    font-family: \"Source Code Pro\", \"Menlo\", monospace;;\n",
       "    font-size: 13px;\n",
       "    color: #555;\n",
       "    margin-left: 4px;\n",
       "    line-height: 19px;\n",
       "  }\n",
       "</style>\n",
       "<div class=\"ansiout\"></div>"
      ]
     },
     "metadata": {
      "application/vnd.databricks.v1+output": {
       "addedWidgets": {},
       "arguments": {},
       "data": "<div class=\"ansiout\"></div>",
       "datasetInfos": [],
       "metadata": {},
       "removedWidgets": [],
       "type": "html"
      }
     },
     "output_type": "display_data"
    }
   ],
   "source": [
    "view_mean = view_mean.collect()"
   ]
  },
  {
   "cell_type": "code",
   "execution_count": 0,
   "metadata": {
    "application/vnd.databricks.v1+cell": {
     "inputWidgets": {},
     "nuid": "e09ed91e-994c-4a8c-a18e-6bd78f640f20",
     "showTitle": false,
     "title": ""
    }
   },
   "outputs": [
    {
     "data": {
      "text/html": [
       "<style scoped>\n",
       "  .ansiout {\n",
       "    display: block;\n",
       "    unicode-bidi: embed;\n",
       "    white-space: pre-wrap;\n",
       "    word-wrap: break-word;\n",
       "    word-break: break-all;\n",
       "    font-family: \"Source Code Pro\", \"Menlo\", monospace;;\n",
       "    font-size: 13px;\n",
       "    color: #555;\n",
       "    margin-left: 4px;\n",
       "    line-height: 19px;\n",
       "  }\n",
       "</style>\n",
       "<div class=\"ansiout\"></div>"
      ]
     },
     "metadata": {
      "application/vnd.databricks.v1+output": {
       "addedWidgets": {},
       "arguments": {},
       "data": "<div class=\"ansiout\"></div>",
       "datasetInfos": [],
       "metadata": {},
       "removedWidgets": [],
       "type": "html"
      }
     },
     "output_type": "display_data"
    }
   ],
   "source": [
    "view_mean = list(view_mean[0].asDict().values())[0]"
   ]
  },
  {
   "cell_type": "code",
   "execution_count": 0,
   "metadata": {
    "application/vnd.databricks.v1+cell": {
     "inputWidgets": {},
     "nuid": "f24eee28-4ba3-499f-b101-0c64d5903c09",
     "showTitle": false,
     "title": ""
    },
    "scrolled": false
   },
   "outputs": [
    {
     "data": {
      "text/html": [
       "<style scoped>\n",
       "  .ansiout {\n",
       "    display: block;\n",
       "    unicode-bidi: embed;\n",
       "    white-space: pre-wrap;\n",
       "    word-wrap: break-word;\n",
       "    word-break: break-all;\n",
       "    font-family: \"Source Code Pro\", \"Menlo\", monospace;;\n",
       "    font-size: 13px;\n",
       "    color: #555;\n",
       "    margin-left: 4px;\n",
       "    line-height: 19px;\n",
       "  }\n",
       "</style>\n",
       "<div class=\"ansiout\">+-------------------+-------------+-----+--------------------+-----------+---------------------+------------+-------------------+\n",
       "               date|hf_emot_label|likes|                text|text_length|vader_sentiment_score|views_gained|               week|\n",
       "+-------------------+-------------+-----+--------------------+-----------+---------------------+------------+-------------------+\n",
       "2021-09-30 07:00:00|          joy|    1|I enjoy Joe Rogan...|         88|    0.784500002861023|     8910349|2021-09-27 07:00:00|\n",
       "2021-09-30 07:00:00|        anger|    0|@JohnMcCarthyMMA ...|         76|                  0.0|     8910349|2021-09-27 07:00:00|\n",
       "2021-09-30 07:00:00|        anger|    1|@cenkuygur Chunk ...|        162|  -0.6820999979972839|     8910349|2021-09-27 07:00:00|\n",
       "2021-09-30 07:00:00|      sadness|    0|@CaveDude111 He&#39;s...|        181|  0.16220000386238098|     8910349|2021-09-27 07:00:00|\n",
       "2021-09-30 07:00:00|      sadness|    0|@cenkuygur @joero...|         45|  -0.5719000101089478|     8910349|2021-09-27 07:00:00|\n",
       "2021-09-30 07:00:00|        anger|    1|@cenkuygur @joero...|        103|   0.5156999826431274|     8910349|2021-09-27 07:00:00|\n",
       "2021-09-30 07:00:00|      sadness|    1|Finally a man wit...|        178|                  0.0|     8910349|2021-09-27 07:00:00|\n",
       "2021-09-30 07:00:00|     surprise|    1|@cenkuygur @joero...|        144|    0.883400022983551|     8910349|2021-09-27 07:00:00|\n",
       "2021-09-30 07:00:00|        anger|    0|@alex_ozarud @ela...|        101|                  0.0|     8910349|2021-09-27 07:00:00|\n",
       "2021-09-30 07:00:00|        anger|    4|@BridgetPhetasy B...|        159|  -0.3253999948501587|     8910349|2021-09-27 07:00:00|\n",
       "2021-09-30 07:00:00|          joy|    0|@Tlove4ucla @Real...|         41|                  0.0|     8910349|2021-09-27 07:00:00|\n",
       "2021-09-30 07:00:00|          joy|    0|@JohnMcCarthyMMA ...|         91|  -0.2410999983549118|     8910349|2021-09-27 07:00:00|\n",
       "2021-09-30 07:00:00|          joy|    1|Sign this shit up...|        162|  0.27140000462532043|     8910349|2021-09-27 07:00:00|\n",
       "2021-09-30 07:00:00|        anger|    0|@NicoleArbour @st...|         65|                  0.0|     8910349|2021-09-27 07:00:00|\n",
       "2021-09-30 07:00:00|        anger|    0|Please let this h...|        115|   0.3181999921798706|     8910349|2021-09-27 07:00:00|\n",
       "2021-09-30 07:00:00|        anger|    0|@JohnMcCarthyMMA ...|         47|  0.29600000381469727|     8910349|2021-09-27 07:00:00|\n",
       "2021-09-30 07:00:00|          joy|    1|@cenkuygur @joero...|         82|                  0.0|     8910349|2021-09-27 07:00:00|\n",
       "2021-09-30 07:00:00|        anger|    8|@cenkuygur @joero...|         69| -0.45879998803138733|     8910349|2021-09-27 07:00:00|\n",
       "2021-09-30 07:00:00|        anger|    0|@RawStory @joerog...|         31|  -0.3612000048160553|     8910349|2021-09-27 07:00:00|\n",
       "2021-09-30 07:00:00|          joy|    0|@NoronhaBrennan @...|         56|   0.6596999764442444|     8910349|2021-09-27 07:00:00|\n",
       "+-------------------+-------------+-----+--------------------+-----------+---------------------+------------+-------------------+\n",
       "only showing top 20 rows\n",
       "\n",
       "</div>"
      ]
     },
     "metadata": {
      "application/vnd.databricks.v1+output": {
       "addedWidgets": {},
       "arguments": {},
       "data": "<div class=\"ansiout\">+-------------------+-------------+-----+--------------------+-----------+---------------------+------------+-------------------+\n|               date|hf_emot_label|likes|                text|text_length|vader_sentiment_score|views_gained|               week|\n+-------------------+-------------+-----+--------------------+-----------+---------------------+------------+-------------------+\n|2021-09-30 07:00:00|          joy|    1|I enjoy Joe Rogan...|         88|    0.784500002861023|     8910349|2021-09-27 07:00:00|\n|2021-09-30 07:00:00|        anger|    0|@JohnMcCarthyMMA ...|         76|                  0.0|     8910349|2021-09-27 07:00:00|\n|2021-09-30 07:00:00|        anger|    1|@cenkuygur Chunk ...|        162|  -0.6820999979972839|     8910349|2021-09-27 07:00:00|\n|2021-09-30 07:00:00|      sadness|    0|@CaveDude111 He&#39;s...|        181|  0.16220000386238098|     8910349|2021-09-27 07:00:00|\n|2021-09-30 07:00:00|      sadness|    0|@cenkuygur @joero...|         45|  -0.5719000101089478|     8910349|2021-09-27 07:00:00|\n|2021-09-30 07:00:00|        anger|    1|@cenkuygur @joero...|        103|   0.5156999826431274|     8910349|2021-09-27 07:00:00|\n|2021-09-30 07:00:00|      sadness|    1|Finally a man wit...|        178|                  0.0|     8910349|2021-09-27 07:00:00|\n|2021-09-30 07:00:00|     surprise|    1|@cenkuygur @joero...|        144|    0.883400022983551|     8910349|2021-09-27 07:00:00|\n|2021-09-30 07:00:00|        anger|    0|@alex_ozarud @ela...|        101|                  0.0|     8910349|2021-09-27 07:00:00|\n|2021-09-30 07:00:00|        anger|    4|@BridgetPhetasy B...|        159|  -0.3253999948501587|     8910349|2021-09-27 07:00:00|\n|2021-09-30 07:00:00|          joy|    0|@Tlove4ucla @Real...|         41|                  0.0|     8910349|2021-09-27 07:00:00|\n|2021-09-30 07:00:00|          joy|    0|@JohnMcCarthyMMA ...|         91|  -0.2410999983549118|     8910349|2021-09-27 07:00:00|\n|2021-09-30 07:00:00|          joy|    1|Sign this shit up...|        162|  0.27140000462532043|     8910349|2021-09-27 07:00:00|\n|2021-09-30 07:00:00|        anger|    0|@NicoleArbour @st...|         65|                  0.0|     8910349|2021-09-27 07:00:00|\n|2021-09-30 07:00:00|        anger|    0|Please let this h...|        115|   0.3181999921798706|     8910349|2021-09-27 07:00:00|\n|2021-09-30 07:00:00|        anger|    0|@JohnMcCarthyMMA ...|         47|  0.29600000381469727|     8910349|2021-09-27 07:00:00|\n|2021-09-30 07:00:00|          joy|    1|@cenkuygur @joero...|         82|                  0.0|     8910349|2021-09-27 07:00:00|\n|2021-09-30 07:00:00|        anger|    8|@cenkuygur @joero...|         69| -0.45879998803138733|     8910349|2021-09-27 07:00:00|\n|2021-09-30 07:00:00|        anger|    0|@RawStory @joerog...|         31|  -0.3612000048160553|     8910349|2021-09-27 07:00:00|\n|2021-09-30 07:00:00|          joy|    0|@NoronhaBrennan @...|         56|   0.6596999764442444|     8910349|2021-09-27 07:00:00|\n+-------------------+-------------+-----+--------------------+-----------+---------------------+------------+-------------------+\nonly showing top 20 rows\n\n</div>",
       "datasetInfos": [],
       "metadata": {},
       "removedWidgets": [],
       "type": "html"
      }
     },
     "output_type": "display_data"
    }
   ],
   "source": [
    "df.show()"
   ]
  },
  {
   "cell_type": "code",
   "execution_count": 0,
   "metadata": {
    "application/vnd.databricks.v1+cell": {
     "inputWidgets": {},
     "nuid": "3f3f351d-e5c1-4fdf-8f1e-6e9bedcd571c",
     "showTitle": false,
     "title": ""
    }
   },
   "outputs": [
    {
     "data": {
      "text/html": [
       "<style scoped>\n",
       "  .ansiout {\n",
       "    display: block;\n",
       "    unicode-bidi: embed;\n",
       "    white-space: pre-wrap;\n",
       "    word-wrap: break-word;\n",
       "    word-break: break-all;\n",
       "    font-family: \"Source Code Pro\", \"Menlo\", monospace;;\n",
       "    font-size: 13px;\n",
       "    color: #555;\n",
       "    margin-left: 4px;\n",
       "    line-height: 19px;\n",
       "  }\n",
       "</style>\n",
       "<div class=\"ansiout\"></div>"
      ]
     },
     "metadata": {
      "application/vnd.databricks.v1+output": {
       "addedWidgets": {},
       "arguments": {},
       "data": "<div class=\"ansiout\"></div>",
       "datasetInfos": [],
       "metadata": {},
       "removedWidgets": [],
       "type": "html"
      }
     },
     "output_type": "display_data"
    }
   ],
   "source": [
    "df = df.drop('week').drop('date').drop('text')"
   ]
  },
  {
   "cell_type": "code",
   "execution_count": 0,
   "metadata": {
    "application/vnd.databricks.v1+cell": {
     "inputWidgets": {},
     "nuid": "5c984f10-dd4a-4e97-aeba-e36786ac364d",
     "showTitle": false,
     "title": ""
    }
   },
   "outputs": [
    {
     "data": {
      "text/html": [
       "<style scoped>\n",
       "  .ansiout {\n",
       "    display: block;\n",
       "    unicode-bidi: embed;\n",
       "    white-space: pre-wrap;\n",
       "    word-wrap: break-word;\n",
       "    word-break: break-all;\n",
       "    font-family: \"Source Code Pro\", \"Menlo\", monospace;;\n",
       "    font-size: 13px;\n",
       "    color: #555;\n",
       "    margin-left: 4px;\n",
       "    line-height: 19px;\n",
       "  }\n",
       "</style>\n",
       "<div class=\"ansiout\">+-------------+-----+-----------+---------------------+------------+\n",
       "hf_emot_label|likes|text_length|vader_sentiment_score|views_gained|\n",
       "+-------------+-----+-----------+---------------------+------------+\n",
       "          joy|    1|         88|    0.784500002861023|     8910349|\n",
       "        anger|    0|         76|                  0.0|     8910349|\n",
       "        anger|    1|        162|  -0.6820999979972839|     8910349|\n",
       "      sadness|    0|        181|  0.16220000386238098|     8910349|\n",
       "      sadness|    0|         45|  -0.5719000101089478|     8910349|\n",
       "        anger|    1|        103|   0.5156999826431274|     8910349|\n",
       "      sadness|    1|        178|                  0.0|     8910349|\n",
       "     surprise|    1|        144|    0.883400022983551|     8910349|\n",
       "        anger|    0|        101|                  0.0|     8910349|\n",
       "        anger|    4|        159|  -0.3253999948501587|     8910349|\n",
       "          joy|    0|         41|                  0.0|     8910349|\n",
       "          joy|    0|         91|  -0.2410999983549118|     8910349|\n",
       "          joy|    1|        162|  0.27140000462532043|     8910349|\n",
       "        anger|    0|         65|                  0.0|     8910349|\n",
       "        anger|    0|        115|   0.3181999921798706|     8910349|\n",
       "        anger|    0|         47|  0.29600000381469727|     8910349|\n",
       "          joy|    1|         82|                  0.0|     8910349|\n",
       "        anger|    8|         69| -0.45879998803138733|     8910349|\n",
       "        anger|    0|         31|  -0.3612000048160553|     8910349|\n",
       "          joy|    0|         56|   0.6596999764442444|     8910349|\n",
       "+-------------+-----+-----------+---------------------+------------+\n",
       "only showing top 20 rows\n",
       "\n",
       "</div>"
      ]
     },
     "metadata": {
      "application/vnd.databricks.v1+output": {
       "addedWidgets": {},
       "arguments": {},
       "data": "<div class=\"ansiout\">+-------------+-----+-----------+---------------------+------------+\n|hf_emot_label|likes|text_length|vader_sentiment_score|views_gained|\n+-------------+-----+-----------+---------------------+------------+\n|          joy|    1|         88|    0.784500002861023|     8910349|\n|        anger|    0|         76|                  0.0|     8910349|\n|        anger|    1|        162|  -0.6820999979972839|     8910349|\n|      sadness|    0|        181|  0.16220000386238098|     8910349|\n|      sadness|    0|         45|  -0.5719000101089478|     8910349|\n|        anger|    1|        103|   0.5156999826431274|     8910349|\n|      sadness|    1|        178|                  0.0|     8910349|\n|     surprise|    1|        144|    0.883400022983551|     8910349|\n|        anger|    0|        101|                  0.0|     8910349|\n|        anger|    4|        159|  -0.3253999948501587|     8910349|\n|          joy|    0|         41|                  0.0|     8910349|\n|          joy|    0|         91|  -0.2410999983549118|     8910349|\n|          joy|    1|        162|  0.27140000462532043|     8910349|\n|        anger|    0|         65|                  0.0|     8910349|\n|        anger|    0|        115|   0.3181999921798706|     8910349|\n|        anger|    0|         47|  0.29600000381469727|     8910349|\n|          joy|    1|         82|                  0.0|     8910349|\n|        anger|    8|         69| -0.45879998803138733|     8910349|\n|        anger|    0|         31|  -0.3612000048160553|     8910349|\n|          joy|    0|         56|   0.6596999764442444|     8910349|\n+-------------+-----+-----------+---------------------+------------+\nonly showing top 20 rows\n\n</div>",
       "datasetInfos": [],
       "metadata": {},
       "removedWidgets": [],
       "type": "html"
      }
     },
     "output_type": "display_data"
    }
   ],
   "source": [
    "df.show()"
   ]
  },
  {
   "cell_type": "code",
   "execution_count": 0,
   "metadata": {
    "application/vnd.databricks.v1+cell": {
     "inputWidgets": {},
     "nuid": "33dc46ec-d3dc-402d-a807-f95e9a8fc3b3",
     "showTitle": false,
     "title": ""
    }
   },
   "outputs": [
    {
     "data": {
      "text/html": [
       "<style scoped>\n",
       "  .ansiout {\n",
       "    display: block;\n",
       "    unicode-bidi: embed;\n",
       "    white-space: pre-wrap;\n",
       "    word-wrap: break-word;\n",
       "    word-break: break-all;\n",
       "    font-family: \"Source Code Pro\", \"Menlo\", monospace;;\n",
       "    font-size: 13px;\n",
       "    color: #555;\n",
       "    margin-left: 4px;\n",
       "    line-height: 19px;\n",
       "  }\n",
       "</style>\n",
       "<div class=\"ansiout\"></div>"
      ]
     },
     "metadata": {
      "application/vnd.databricks.v1+output": {
       "addedWidgets": {},
       "arguments": {},
       "data": "<div class=\"ansiout\"></div>",
       "datasetInfos": [],
       "metadata": {},
       "removedWidgets": [],
       "type": "html"
      }
     },
     "output_type": "display_data"
    }
   ],
   "source": [
    "from pyspark.ml.feature import OneHotEncoder\n",
    "from pyspark.ml.feature import VectorAssembler\n",
    "from pyspark.ml.feature import StringIndexer\n",
    "from pyspark.ml.regression import RandomForestRegressor\n",
    "from pyspark.ml.regression import GBTRegressor\n",
    "from pyspark.ml.regression import LinearRegression\n",
    "from pyspark.ml.evaluation import RegressionEvaluator"
   ]
  },
  {
   "cell_type": "code",
   "execution_count": 0,
   "metadata": {
    "application/vnd.databricks.v1+cell": {
     "inputWidgets": {},
     "nuid": "f2d46da2-f826-4341-a08b-27926610d631",
     "showTitle": false,
     "title": ""
    }
   },
   "outputs": [
    {
     "data": {
      "text/html": [
       "<style scoped>\n",
       "  .ansiout {\n",
       "    display: block;\n",
       "    unicode-bidi: embed;\n",
       "    white-space: pre-wrap;\n",
       "    word-wrap: break-word;\n",
       "    word-break: break-all;\n",
       "    font-family: \"Source Code Pro\", \"Menlo\", monospace;;\n",
       "    font-size: 13px;\n",
       "    color: #555;\n",
       "    margin-left: 4px;\n",
       "    line-height: 19px;\n",
       "  }\n",
       "</style>\n",
       "<div class=\"ansiout\"></div>"
      ]
     },
     "metadata": {
      "application/vnd.databricks.v1+output": {
       "addedWidgets": {},
       "arguments": {},
       "data": "<div class=\"ansiout\"></div>",
       "datasetInfos": [],
       "metadata": {},
       "removedWidgets": [],
       "type": "html"
      }
     },
     "output_type": "display_data"
    }
   ],
   "source": [
    "df_split = df.randomSplit([0.8, 0.2], 1)\n",
    "df_train = df_split[0].cache()\n",
    "df_test = df_split[1].cache()"
   ]
  },
  {
   "cell_type": "code",
   "execution_count": 0,
   "metadata": {
    "application/vnd.databricks.v1+cell": {
     "inputWidgets": {},
     "nuid": "ac243d82-44ca-49c1-b20e-ae2a20791a4b",
     "showTitle": false,
     "title": ""
    }
   },
   "outputs": [
    {
     "data": {
      "text/html": [
       "<style scoped>\n",
       "  .ansiout {\n",
       "    display: block;\n",
       "    unicode-bidi: embed;\n",
       "    white-space: pre-wrap;\n",
       "    word-wrap: break-word;\n",
       "    word-break: break-all;\n",
       "    font-family: \"Source Code Pro\", \"Menlo\", monospace;;\n",
       "    font-size: 13px;\n",
       "    color: #555;\n",
       "    margin-left: 4px;\n",
       "    line-height: 19px;\n",
       "  }\n",
       "</style>\n",
       "<div class=\"ansiout\">+-------------+-----+-----------+---------------------+------------+\n",
       "hf_emot_label|likes|text_length|vader_sentiment_score|views_gained|\n",
       "+-------------+-----+-----------+---------------------+------------+\n",
       "        anger|   -1|          0|                  0.0|     8096839|\n",
       "        anger|   -1|          0|                  0.0|     9179147|\n",
       "        anger|   -1|          0|                  0.0|    14023547|\n",
       "        anger|   -1|          0|                  0.0|    14045687|\n",
       "        anger|   -1|          0|                  0.0|    14124456|\n",
       "        anger|   -1|          1|                  0.0|    10782156|\n",
       "        anger|   -1|          1|                  0.0|    14124456|\n",
       "        anger|   -1|          3|                  0.0|    20157423|\n",
       "        anger|   -1|          4|                  0.0|    11203646|\n",
       "        anger|   -1|          4|                  0.0|    12242089|\n",
       "        anger|   -1|          4|                  0.0|    14126353|\n",
       "        anger|   -1|          5|                  0.0|     6401358|\n",
       "        anger|   -1|          5|   0.6359999775886536|    17233953|\n",
       "        anger|   -1|          6|                  0.0|     6401358|\n",
       "        anger|   -1|          6|                  0.0|     9179147|\n",
       "        anger|   -1|          6|                  0.0|     9179147|\n",
       "        anger|   -1|          6|                  0.0|    12757312|\n",
       "        anger|   -1|          6|                  0.0|    14770807|\n",
       "        anger|   -1|          6|   0.5573999881744385|    19104055|\n",
       "        anger|   -1|          7|  -0.4018999934196472|     9179147|\n",
       "+-------------+-----+-----------+---------------------+------------+\n",
       "only showing top 20 rows\n",
       "\n",
       "</div>"
      ]
     },
     "metadata": {
      "application/vnd.databricks.v1+output": {
       "addedWidgets": {},
       "arguments": {},
       "data": "<div class=\"ansiout\">+-------------+-----+-----------+---------------------+------------+\n|hf_emot_label|likes|text_length|vader_sentiment_score|views_gained|\n+-------------+-----+-----------+---------------------+------------+\n|        anger|   -1|          0|                  0.0|     8096839|\n|        anger|   -1|          0|                  0.0|     9179147|\n|        anger|   -1|          0|                  0.0|    14023547|\n|        anger|   -1|          0|                  0.0|    14045687|\n|        anger|   -1|          0|                  0.0|    14124456|\n|        anger|   -1|          1|                  0.0|    10782156|\n|        anger|   -1|          1|                  0.0|    14124456|\n|        anger|   -1|          3|                  0.0|    20157423|\n|        anger|   -1|          4|                  0.0|    11203646|\n|        anger|   -1|          4|                  0.0|    12242089|\n|        anger|   -1|          4|                  0.0|    14126353|\n|        anger|   -1|          5|                  0.0|     6401358|\n|        anger|   -1|          5|   0.6359999775886536|    17233953|\n|        anger|   -1|          6|                  0.0|     6401358|\n|        anger|   -1|          6|                  0.0|     9179147|\n|        anger|   -1|          6|                  0.0|     9179147|\n|        anger|   -1|          6|                  0.0|    12757312|\n|        anger|   -1|          6|                  0.0|    14770807|\n|        anger|   -1|          6|   0.5573999881744385|    19104055|\n|        anger|   -1|          7|  -0.4018999934196472|     9179147|\n+-------------+-----+-----------+---------------------+------------+\nonly showing top 20 rows\n\n</div>",
       "datasetInfos": [],
       "metadata": {},
       "removedWidgets": [],
       "type": "html"
      }
     },
     "output_type": "display_data"
    }
   ],
   "source": [
    "df_train.show()"
   ]
  },
  {
   "cell_type": "code",
   "execution_count": 0,
   "metadata": {
    "application/vnd.databricks.v1+cell": {
     "inputWidgets": {},
     "nuid": "f4bb925f-811e-41c9-acaf-25451eb36462",
     "showTitle": false,
     "title": ""
    }
   },
   "outputs": [
    {
     "data": {
      "text/html": [
       "<style scoped>\n",
       "  .ansiout {\n",
       "    display: block;\n",
       "    unicode-bidi: embed;\n",
       "    white-space: pre-wrap;\n",
       "    word-wrap: break-word;\n",
       "    word-break: break-all;\n",
       "    font-family: \"Source Code Pro\", \"Menlo\", monospace;;\n",
       "    font-size: 13px;\n",
       "    color: #555;\n",
       "    margin-left: 4px;\n",
       "    line-height: 19px;\n",
       "  }\n",
       "</style>\n",
       "<div class=\"ansiout\"></div>"
      ]
     },
     "metadata": {
      "application/vnd.databricks.v1+output": {
       "addedWidgets": {},
       "arguments": {},
       "data": "<div class=\"ansiout\"></div>",
       "datasetInfos": [],
       "metadata": {},
       "removedWidgets": [],
       "type": "html"
      }
     },
     "output_type": "display_data"
    }
   ],
   "source": [
    "cat_cols = ['hf_emot_label']\n",
    "\n",
    "for col in cat_cols:\n",
    "    si = StringIndexer(inputCol=col, outputCol=col+\"-onehot\").setHandleInvalid(\"keep\")\n",
    "    sm = si.fit(df_train)\n",
    "    df_train = sm.transform(df_train).drop(col)\n",
    "    df_train = df_train.withColumnRenamed(col+\"-onehot\", col)\n",
    "    df_test = sm.transform(df_test).drop(col)\n",
    "    df_test = df_test.withColumnRenamed(col+\"-onehot\", col)"
   ]
  },
  {
   "cell_type": "code",
   "execution_count": 0,
   "metadata": {
    "application/vnd.databricks.v1+cell": {
     "inputWidgets": {},
     "nuid": "0101a4c7-a4dd-4775-aa07-b0a745becd8b",
     "showTitle": false,
     "title": ""
    }
   },
   "outputs": [
    {
     "data": {
      "text/html": [
       "<style scoped>\n",
       "  .ansiout {\n",
       "    display: block;\n",
       "    unicode-bidi: embed;\n",
       "    white-space: pre-wrap;\n",
       "    word-wrap: break-word;\n",
       "    word-break: break-all;\n",
       "    font-family: \"Source Code Pro\", \"Menlo\", monospace;;\n",
       "    font-size: 13px;\n",
       "    color: #555;\n",
       "    margin-left: 4px;\n",
       "    line-height: 19px;\n",
       "  }\n",
       "</style>\n",
       "<div class=\"ansiout\">Out[63]: [&#39;joy&#39;, &#39;anger&#39;, &#39;sadness&#39;, &#39;fear&#39;, &#39;surprise&#39;, &#39;love&#39;]</div>"
      ]
     },
     "metadata": {
      "application/vnd.databricks.v1+output": {
       "addedWidgets": {},
       "arguments": {},
       "data": "<div class=\"ansiout\">Out[63]: [&#39;joy&#39;, &#39;anger&#39;, &#39;sadness&#39;, &#39;fear&#39;, &#39;surprise&#39;, &#39;love&#39;]</div>",
       "datasetInfos": [],
       "metadata": {},
       "removedWidgets": [],
       "type": "html"
      }
     },
     "output_type": "display_data"
    }
   ],
   "source": [
    "sm.labels"
   ]
  },
  {
   "cell_type": "code",
   "execution_count": 0,
   "metadata": {
    "application/vnd.databricks.v1+cell": {
     "inputWidgets": {},
     "nuid": "a4029e25-366f-4d9f-a59e-ee3fc42435e2",
     "showTitle": false,
     "title": ""
    }
   },
   "outputs": [
    {
     "data": {
      "text/html": [
       "<style scoped>\n",
       "  .ansiout {\n",
       "    display: block;\n",
       "    unicode-bidi: embed;\n",
       "    white-space: pre-wrap;\n",
       "    word-wrap: break-word;\n",
       "    word-break: break-all;\n",
       "    font-family: \"Source Code Pro\", \"Menlo\", monospace;;\n",
       "    font-size: 13px;\n",
       "    color: #555;\n",
       "    margin-left: 4px;\n",
       "    line-height: 19px;\n",
       "  }\n",
       "</style>\n",
       "<div class=\"ansiout\">+-----+-----------+---------------------+------------+-------------+\n",
       "likes|text_length|vader_sentiment_score|views_gained|hf_emot_label|\n",
       "+-----+-----------+---------------------+------------+-------------+\n",
       "   -1|          0|                  0.0|     8096839|          1.0|\n",
       "   -1|          0|                  0.0|     9179147|          1.0|\n",
       "   -1|          0|                  0.0|    14023547|          1.0|\n",
       "   -1|          0|                  0.0|    14045687|          1.0|\n",
       "   -1|          0|                  0.0|    14124456|          1.0|\n",
       "   -1|          1|                  0.0|    10782156|          1.0|\n",
       "   -1|          1|                  0.0|    14124456|          1.0|\n",
       "   -1|          3|                  0.0|    20157423|          1.0|\n",
       "   -1|          4|                  0.0|    11203646|          1.0|\n",
       "   -1|          4|                  0.0|    12242089|          1.0|\n",
       "   -1|          4|                  0.0|    14126353|          1.0|\n",
       "   -1|          5|                  0.0|     6401358|          1.0|\n",
       "   -1|          5|   0.6359999775886536|    17233953|          1.0|\n",
       "   -1|          6|                  0.0|     6401358|          1.0|\n",
       "   -1|          6|                  0.0|     9179147|          1.0|\n",
       "   -1|          6|                  0.0|     9179147|          1.0|\n",
       "   -1|          6|                  0.0|    12757312|          1.0|\n",
       "   -1|          6|                  0.0|    14770807|          1.0|\n",
       "   -1|          6|   0.5573999881744385|    19104055|          1.0|\n",
       "   -1|          7|  -0.4018999934196472|     9179147|          1.0|\n",
       "+-----+-----------+---------------------+------------+-------------+\n",
       "only showing top 20 rows\n",
       "\n",
       "</div>"
      ]
     },
     "metadata": {
      "application/vnd.databricks.v1+output": {
       "addedWidgets": {},
       "arguments": {},
       "data": "<div class=\"ansiout\">+-----+-----------+---------------------+------------+-------------+\n|likes|text_length|vader_sentiment_score|views_gained|hf_emot_label|\n+-----+-----------+---------------------+------------+-------------+\n|   -1|          0|                  0.0|     8096839|          1.0|\n|   -1|          0|                  0.0|     9179147|          1.0|\n|   -1|          0|                  0.0|    14023547|          1.0|\n|   -1|          0|                  0.0|    14045687|          1.0|\n|   -1|          0|                  0.0|    14124456|          1.0|\n|   -1|          1|                  0.0|    10782156|          1.0|\n|   -1|          1|                  0.0|    14124456|          1.0|\n|   -1|          3|                  0.0|    20157423|          1.0|\n|   -1|          4|                  0.0|    11203646|          1.0|\n|   -1|          4|                  0.0|    12242089|          1.0|\n|   -1|          4|                  0.0|    14126353|          1.0|\n|   -1|          5|                  0.0|     6401358|          1.0|\n|   -1|          5|   0.6359999775886536|    17233953|          1.0|\n|   -1|          6|                  0.0|     6401358|          1.0|\n|   -1|          6|                  0.0|     9179147|          1.0|\n|   -1|          6|                  0.0|     9179147|          1.0|\n|   -1|          6|                  0.0|    12757312|          1.0|\n|   -1|          6|                  0.0|    14770807|          1.0|\n|   -1|          6|   0.5573999881744385|    19104055|          1.0|\n|   -1|          7|  -0.4018999934196472|     9179147|          1.0|\n+-----+-----------+---------------------+------------+-------------+\nonly showing top 20 rows\n\n</div>",
       "datasetInfos": [],
       "metadata": {},
       "removedWidgets": [],
       "type": "html"
      }
     },
     "output_type": "display_data"
    }
   ],
   "source": [
    "df_train.show()"
   ]
  },
  {
   "cell_type": "code",
   "execution_count": 0,
   "metadata": {
    "application/vnd.databricks.v1+cell": {
     "inputWidgets": {},
     "nuid": "eeb65a9d-47cb-48c7-979d-e5d03ce64f6e",
     "showTitle": false,
     "title": ""
    }
   },
   "outputs": [
    {
     "data": {
      "text/html": [
       "<style scoped>\n",
       "  .ansiout {\n",
       "    display: block;\n",
       "    unicode-bidi: embed;\n",
       "    white-space: pre-wrap;\n",
       "    word-wrap: break-word;\n",
       "    word-break: break-all;\n",
       "    font-family: \"Source Code Pro\", \"Menlo\", monospace;;\n",
       "    font-size: 13px;\n",
       "    color: #555;\n",
       "    margin-left: 4px;\n",
       "    line-height: 19px;\n",
       "  }\n",
       "</style>\n",
       "<div class=\"ansiout\"></div>"
      ]
     },
     "metadata": {
      "application/vnd.databricks.v1+output": {
       "addedWidgets": {},
       "arguments": {},
       "data": "<div class=\"ansiout\"></div>",
       "datasetInfos": [],
       "metadata": {},
       "removedWidgets": [],
       "type": "html"
      }
     },
     "output_type": "display_data"
    }
   ],
   "source": [
    "for col in cat_cols:\n",
    "    oi = OneHotEncoder(inputCol=col, outputCol=col+\"-onehot\")\n",
    "    om = oi.fit(df_train)\n",
    "    df_train = om.transform(df_train).drop(col)\n",
    "    df_train = df_train.withColumnRenamed(col+\"-onehot\", col)\n",
    "    df_test = om.transform(df_test).drop(col)\n",
    "    df_test = df_test.withColumnRenamed(col+\"-onehot\", col)"
   ]
  },
  {
   "cell_type": "code",
   "execution_count": 0,
   "metadata": {
    "application/vnd.databricks.v1+cell": {
     "inputWidgets": {},
     "nuid": "d8e84e85-e324-42a6-b4da-bb5e21afd0ab",
     "showTitle": false,
     "title": ""
    }
   },
   "outputs": [
    {
     "data": {
      "text/html": [
       "<style scoped>\n",
       "  .ansiout {\n",
       "    display: block;\n",
       "    unicode-bidi: embed;\n",
       "    white-space: pre-wrap;\n",
       "    word-wrap: break-word;\n",
       "    word-break: break-all;\n",
       "    font-family: \"Source Code Pro\", \"Menlo\", monospace;;\n",
       "    font-size: 13px;\n",
       "    color: #555;\n",
       "    margin-left: 4px;\n",
       "    line-height: 19px;\n",
       "  }\n",
       "</style>\n",
       "<div class=\"ansiout\">Out[62]: [7]</div>"
      ]
     },
     "metadata": {
      "application/vnd.databricks.v1+output": {
       "addedWidgets": {},
       "arguments": {},
       "data": "<div class=\"ansiout\">Out[62]: [7]</div>",
       "datasetInfos": [],
       "metadata": {},
       "removedWidgets": [],
       "type": "html"
      }
     },
     "output_type": "display_data"
    }
   ],
   "source": [
    "om.categorySizes"
   ]
  },
  {
   "cell_type": "code",
   "execution_count": 0,
   "metadata": {
    "application/vnd.databricks.v1+cell": {
     "inputWidgets": {},
     "nuid": "e686dc82-2610-4ff4-b1fe-6a58f851a5c6",
     "showTitle": false,
     "title": ""
    }
   },
   "outputs": [
    {
     "data": {
      "text/html": [
       "<style scoped>\n",
       "  .ansiout {\n",
       "    display: block;\n",
       "    unicode-bidi: embed;\n",
       "    white-space: pre-wrap;\n",
       "    word-wrap: break-word;\n",
       "    word-break: break-all;\n",
       "    font-family: \"Source Code Pro\", \"Menlo\", monospace;;\n",
       "    font-size: 13px;\n",
       "    color: #555;\n",
       "    margin-left: 4px;\n",
       "    line-height: 19px;\n",
       "  }\n",
       "</style>\n",
       "<div class=\"ansiout\">+-----+-----------+---------------------+------------+-------------+\n",
       "likes|text_length|vader_sentiment_score|views_gained|hf_emot_label|\n",
       "+-----+-----------+---------------------+------------+-------------+\n",
       "   -1|          0|                  0.0|     8096839|(6,[1],[1.0])|\n",
       "   -1|          0|                  0.0|     9179147|(6,[1],[1.0])|\n",
       "   -1|          0|                  0.0|    14023547|(6,[1],[1.0])|\n",
       "   -1|          0|                  0.0|    14045687|(6,[1],[1.0])|\n",
       "   -1|          0|                  0.0|    14124456|(6,[1],[1.0])|\n",
       "   -1|          1|                  0.0|    10782156|(6,[1],[1.0])|\n",
       "   -1|          1|                  0.0|    14124456|(6,[1],[1.0])|\n",
       "   -1|          3|                  0.0|    20157423|(6,[1],[1.0])|\n",
       "   -1|          4|                  0.0|    11203646|(6,[1],[1.0])|\n",
       "   -1|          4|                  0.0|    12242089|(6,[1],[1.0])|\n",
       "   -1|          4|                  0.0|    14126353|(6,[1],[1.0])|\n",
       "   -1|          5|                  0.0|     6401358|(6,[1],[1.0])|\n",
       "   -1|          5|   0.6359999775886536|    17233953|(6,[1],[1.0])|\n",
       "   -1|          6|                  0.0|     6401358|(6,[1],[1.0])|\n",
       "   -1|          6|                  0.0|     9179147|(6,[1],[1.0])|\n",
       "   -1|          6|                  0.0|     9179147|(6,[1],[1.0])|\n",
       "   -1|          6|                  0.0|    12757312|(6,[1],[1.0])|\n",
       "   -1|          6|                  0.0|    14770807|(6,[1],[1.0])|\n",
       "   -1|          6|   0.5573999881744385|    19104055|(6,[1],[1.0])|\n",
       "   -1|          7|  -0.4018999934196472|     9179147|(6,[1],[1.0])|\n",
       "+-----+-----------+---------------------+------------+-------------+\n",
       "only showing top 20 rows\n",
       "\n",
       "</div>"
      ]
     },
     "metadata": {
      "application/vnd.databricks.v1+output": {
       "addedWidgets": {},
       "arguments": {},
       "data": "<div class=\"ansiout\">+-----+-----------+---------------------+------------+-------------+\n|likes|text_length|vader_sentiment_score|views_gained|hf_emot_label|\n+-----+-----------+---------------------+------------+-------------+\n|   -1|          0|                  0.0|     8096839|(6,[1],[1.0])|\n|   -1|          0|                  0.0|     9179147|(6,[1],[1.0])|\n|   -1|          0|                  0.0|    14023547|(6,[1],[1.0])|\n|   -1|          0|                  0.0|    14045687|(6,[1],[1.0])|\n|   -1|          0|                  0.0|    14124456|(6,[1],[1.0])|\n|   -1|          1|                  0.0|    10782156|(6,[1],[1.0])|\n|   -1|          1|                  0.0|    14124456|(6,[1],[1.0])|\n|   -1|          3|                  0.0|    20157423|(6,[1],[1.0])|\n|   -1|          4|                  0.0|    11203646|(6,[1],[1.0])|\n|   -1|          4|                  0.0|    12242089|(6,[1],[1.0])|\n|   -1|          4|                  0.0|    14126353|(6,[1],[1.0])|\n|   -1|          5|                  0.0|     6401358|(6,[1],[1.0])|\n|   -1|          5|   0.6359999775886536|    17233953|(6,[1],[1.0])|\n|   -1|          6|                  0.0|     6401358|(6,[1],[1.0])|\n|   -1|          6|                  0.0|     9179147|(6,[1],[1.0])|\n|   -1|          6|                  0.0|     9179147|(6,[1],[1.0])|\n|   -1|          6|                  0.0|    12757312|(6,[1],[1.0])|\n|   -1|          6|                  0.0|    14770807|(6,[1],[1.0])|\n|   -1|          6|   0.5573999881744385|    19104055|(6,[1],[1.0])|\n|   -1|          7|  -0.4018999934196472|     9179147|(6,[1],[1.0])|\n+-----+-----------+---------------------+------------+-------------+\nonly showing top 20 rows\n\n</div>",
       "datasetInfos": [],
       "metadata": {},
       "removedWidgets": [],
       "type": "html"
      }
     },
     "output_type": "display_data"
    }
   ],
   "source": [
    "df_train.show()"
   ]
  },
  {
   "cell_type": "code",
   "execution_count": 0,
   "metadata": {
    "application/vnd.databricks.v1+cell": {
     "inputWidgets": {},
     "nuid": "2e33a245-6f5d-4650-8dfb-8cbc4c402c5e",
     "showTitle": false,
     "title": ""
    }
   },
   "outputs": [
    {
     "data": {
      "text/html": [
       "<style scoped>\n",
       "  .ansiout {\n",
       "    display: block;\n",
       "    unicode-bidi: embed;\n",
       "    white-space: pre-wrap;\n",
       "    word-wrap: break-word;\n",
       "    word-break: break-all;\n",
       "    font-family: \"Source Code Pro\", \"Menlo\", monospace;;\n",
       "    font-size: 13px;\n",
       "    color: #555;\n",
       "    margin-left: 4px;\n",
       "    line-height: 19px;\n",
       "  }\n",
       "</style>\n",
       "<div class=\"ansiout\"></div>"
      ]
     },
     "metadata": {
      "application/vnd.databricks.v1+output": {
       "addedWidgets": {},
       "arguments": {},
       "data": "<div class=\"ansiout\"></div>",
       "datasetInfos": [],
       "metadata": {},
       "removedWidgets": [],
       "type": "html"
      }
     },
     "output_type": "display_data"
    }
   ],
   "source": [
    "input_cols = df_train.columns\n",
    "input_cols.remove('views_gained')\n",
    "va = VectorAssembler(outputCol=\"features\", inputCols=input_cols)"
   ]
  },
  {
   "cell_type": "code",
   "execution_count": 0,
   "metadata": {
    "application/vnd.databricks.v1+cell": {
     "inputWidgets": {},
     "nuid": "575d5a47-06d6-40ba-b4d9-2977a3687060",
     "showTitle": false,
     "title": ""
    }
   },
   "outputs": [
    {
     "data": {
      "text/html": [
       "<style scoped>\n",
       "  .ansiout {\n",
       "    display: block;\n",
       "    unicode-bidi: embed;\n",
       "    white-space: pre-wrap;\n",
       "    word-wrap: break-word;\n",
       "    word-break: break-all;\n",
       "    font-family: \"Source Code Pro\", \"Menlo\", monospace;;\n",
       "    font-size: 13px;\n",
       "    color: #555;\n",
       "    margin-left: 4px;\n",
       "    line-height: 19px;\n",
       "  }\n",
       "</style>\n",
       "<div class=\"ansiout\">Out[53]: [&#39;likes&#39;, &#39;text_length&#39;, &#39;vader_sentiment_score&#39;, &#39;hf_emot_label&#39;]</div>"
      ]
     },
     "metadata": {
      "application/vnd.databricks.v1+output": {
       "addedWidgets": {},
       "arguments": {},
       "data": "<div class=\"ansiout\">Out[53]: [&#39;likes&#39;, &#39;text_length&#39;, &#39;vader_sentiment_score&#39;, &#39;hf_emot_label&#39;]</div>",
       "datasetInfos": [],
       "metadata": {},
       "removedWidgets": [],
       "type": "html"
      }
     },
     "output_type": "display_data"
    }
   ],
   "source": [
    "input_cols"
   ]
  },
  {
   "cell_type": "code",
   "execution_count": 0,
   "metadata": {
    "application/vnd.databricks.v1+cell": {
     "inputWidgets": {},
     "nuid": "d5c698ce-c70b-4253-8e17-3a7d036525b3",
     "showTitle": false,
     "title": ""
    }
   },
   "outputs": [
    {
     "data": {
      "text/html": [
       "<style scoped>\n",
       "  .ansiout {\n",
       "    display: block;\n",
       "    unicode-bidi: embed;\n",
       "    white-space: pre-wrap;\n",
       "    word-wrap: break-word;\n",
       "    word-break: break-all;\n",
       "    font-family: \"Source Code Pro\", \"Menlo\", monospace;;\n",
       "    font-size: 13px;\n",
       "    color: #555;\n",
       "    margin-left: 4px;\n",
       "    line-height: 19px;\n",
       "  }\n",
       "</style>\n",
       "<div class=\"ansiout\"></div>"
      ]
     },
     "metadata": {
      "application/vnd.databricks.v1+output": {
       "addedWidgets": {},
       "arguments": {},
       "data": "<div class=\"ansiout\"></div>",
       "datasetInfos": [],
       "metadata": {},
       "removedWidgets": [],
       "type": "html"
      }
     },
     "output_type": "display_data"
    }
   ],
   "source": [
    "df_train = va.transform(df_train).select(\n",
    "    \"features\", \"views_gained\").withColumnRenamed(\"views_gained\", \"label\")\n",
    "df_test = va.transform(df_test).select(\n",
    "    \"features\", \"views_gained\").withColumnRenamed(\"views_gained\", \"label\")"
   ]
  },
  {
   "cell_type": "code",
   "execution_count": 0,
   "metadata": {
    "application/vnd.databricks.v1+cell": {
     "inputWidgets": {},
     "nuid": "8ee227a7-18b5-4f34-b049-977fcdb31ef0",
     "showTitle": false,
     "title": ""
    }
   },
   "outputs": [
    {
     "data": {
      "text/html": [
       "<style scoped>\n",
       "  .ansiout {\n",
       "    display: block;\n",
       "    unicode-bidi: embed;\n",
       "    white-space: pre-wrap;\n",
       "    word-wrap: break-word;\n",
       "    word-break: break-all;\n",
       "    font-family: \"Source Code Pro\", \"Menlo\", monospace;;\n",
       "    font-size: 13px;\n",
       "    color: #555;\n",
       "    margin-left: 4px;\n",
       "    line-height: 19px;\n",
       "  }\n",
       "</style>\n",
       "<div class=\"ansiout\">+------------------------------------------------+--------+\n",
       "features                                        |label   |\n",
       "+------------------------------------------------+--------+\n",
       "(9,[0,4],[-1.0,1.0])                            |8096839 |\n",
       "(9,[0,4],[-1.0,1.0])                            |9179147 |\n",
       "(9,[0,4],[-1.0,1.0])                            |14023547|\n",
       "(9,[0,4],[-1.0,1.0])                            |14045687|\n",
       "(9,[0,4],[-1.0,1.0])                            |14124456|\n",
       "(9,[0,1,4],[-1.0,1.0,1.0])                      |10782156|\n",
       "(9,[0,1,4],[-1.0,1.0,1.0])                      |14124456|\n",
       "(9,[0,1,4],[-1.0,3.0,1.0])                      |20157423|\n",
       "(9,[0,1,4],[-1.0,4.0,1.0])                      |11203646|\n",
       "(9,[0,1,4],[-1.0,4.0,1.0])                      |12242089|\n",
       "(9,[0,1,4],[-1.0,4.0,1.0])                      |14126353|\n",
       "(9,[0,1,4],[-1.0,5.0,1.0])                      |6401358 |\n",
       "(9,[0,1,2,4],[-1.0,5.0,0.6359999775886536,1.0]) |17233953|\n",
       "(9,[0,1,4],[-1.0,6.0,1.0])                      |6401358 |\n",
       "(9,[0,1,4],[-1.0,6.0,1.0])                      |9179147 |\n",
       "(9,[0,1,4],[-1.0,6.0,1.0])                      |9179147 |\n",
       "(9,[0,1,4],[-1.0,6.0,1.0])                      |12757312|\n",
       "(9,[0,1,4],[-1.0,6.0,1.0])                      |14770807|\n",
       "(9,[0,1,2,4],[-1.0,6.0,0.5573999881744385,1.0]) |19104055|\n",
       "(9,[0,1,2,4],[-1.0,7.0,-0.4018999934196472,1.0])|9179147 |\n",
       "+------------------------------------------------+--------+\n",
       "only showing top 20 rows\n",
       "\n",
       "</div>"
      ]
     },
     "metadata": {
      "application/vnd.databricks.v1+output": {
       "addedWidgets": {},
       "arguments": {},
       "data": "<div class=\"ansiout\">+------------------------------------------------+--------+\n|features                                        |label   |\n+------------------------------------------------+--------+\n|(9,[0,4],[-1.0,1.0])                            |8096839 |\n|(9,[0,4],[-1.0,1.0])                            |9179147 |\n|(9,[0,4],[-1.0,1.0])                            |14023547|\n|(9,[0,4],[-1.0,1.0])                            |14045687|\n|(9,[0,4],[-1.0,1.0])                            |14124456|\n|(9,[0,1,4],[-1.0,1.0,1.0])                      |10782156|\n|(9,[0,1,4],[-1.0,1.0,1.0])                      |14124456|\n|(9,[0,1,4],[-1.0,3.0,1.0])                      |20157423|\n|(9,[0,1,4],[-1.0,4.0,1.0])                      |11203646|\n|(9,[0,1,4],[-1.0,4.0,1.0])                      |12242089|\n|(9,[0,1,4],[-1.0,4.0,1.0])                      |14126353|\n|(9,[0,1,4],[-1.0,5.0,1.0])                      |6401358 |\n|(9,[0,1,2,4],[-1.0,5.0,0.6359999775886536,1.0]) |17233953|\n|(9,[0,1,4],[-1.0,6.0,1.0])                      |6401358 |\n|(9,[0,1,4],[-1.0,6.0,1.0])                      |9179147 |\n|(9,[0,1,4],[-1.0,6.0,1.0])                      |9179147 |\n|(9,[0,1,4],[-1.0,6.0,1.0])                      |12757312|\n|(9,[0,1,4],[-1.0,6.0,1.0])                      |14770807|\n|(9,[0,1,2,4],[-1.0,6.0,0.5573999881744385,1.0]) |19104055|\n|(9,[0,1,2,4],[-1.0,7.0,-0.4018999934196472,1.0])|9179147 |\n+------------------------------------------------+--------+\nonly showing top 20 rows\n\n</div>",
       "datasetInfos": [],
       "metadata": {},
       "removedWidgets": [],
       "type": "html"
      }
     },
     "output_type": "display_data"
    }
   ],
   "source": [
    "df_train.show(truncate=False)"
   ]
  },
  {
   "cell_type": "code",
   "execution_count": 0,
   "metadata": {
    "application/vnd.databricks.v1+cell": {
     "inputWidgets": {},
     "nuid": "e5f2c792-fef4-4a89-94fe-3a21d1776572",
     "showTitle": false,
     "title": ""
    }
   },
   "outputs": [
    {
     "data": {
      "text/html": [
       "<style scoped>\n",
       "  .ansiout {\n",
       "    display: block;\n",
       "    unicode-bidi: embed;\n",
       "    white-space: pre-wrap;\n",
       "    word-wrap: break-word;\n",
       "    word-break: break-all;\n",
       "    font-family: \"Source Code Pro\", \"Menlo\", monospace;;\n",
       "    font-size: 13px;\n",
       "    color: #555;\n",
       "    margin-left: 4px;\n",
       "    line-height: 19px;\n",
       "  }\n",
       "</style>\n",
       "<div class=\"ansiout\">Normalized MSE: 846704.339\n",
       "</div>"
      ]
     },
     "metadata": {
      "application/vnd.databricks.v1+output": {
       "addedWidgets": {},
       "arguments": {},
       "data": "<div class=\"ansiout\">Normalized MSE: 846704.339\n</div>",
       "datasetInfos": [],
       "metadata": {},
       "removedWidgets": [],
       "type": "html"
      }
     },
     "output_type": "display_data"
    }
   ],
   "source": [
    "rf = RandomForestRegressor(maxDepth=3, numTrees=20, minInstancesPerNode=2)\n",
    "rfmodel = rf.fit(df_train)\n",
    "rfpredicts = rfmodel.transform(df_test)\n",
    "metric_name = \"mse\"\n",
    "metrics = RegressionEvaluator()\\\n",
    "                .setLabelCol(\"label\")\\\n",
    "                .setPredictionCol(\"prediction\")\n",
    "metrics.setMetricName(metric_name) \n",
    "\n",
    "rf_mse = metrics.evaluate(rfpredicts)\n",
    "disp_normalize_mse(rf_mse, view_mean)"
   ]
  },
  {
   "cell_type": "code",
   "execution_count": 0,
   "metadata": {
    "application/vnd.databricks.v1+cell": {
     "inputWidgets": {},
     "nuid": "5b775ad7-130d-4582-80bc-18dbb7a84a3e",
     "showTitle": false,
     "title": ""
    }
   },
   "outputs": [
    {
     "data": {
      "text/html": [
       "<style scoped>\n",
       "  .ansiout {\n",
       "    display: block;\n",
       "    unicode-bidi: embed;\n",
       "    white-space: pre-wrap;\n",
       "    word-wrap: break-word;\n",
       "    word-break: break-all;\n",
       "    font-family: \"Source Code Pro\", \"Menlo\", monospace;;\n",
       "    font-size: 13px;\n",
       "    color: #555;\n",
       "    margin-left: 4px;\n",
       "    line-height: 19px;\n",
       "  }\n",
       "</style>\n",
       "<div class=\"ansiout\">+--------------------+--------+--------------------+\n",
       "            features|   label|          prediction|\n",
       "+--------------------+--------+--------------------+\n",
       "(9,[0,4],[-1.0,1.0])|14124456|1.2415377087236244E7|\n",
       "(9,[0,1,4],[-1.0,...|12242089|1.2415377087236244E7|\n",
       "(9,[0,1,4],[-1.0,...|14770807|1.2415377087236244E7|\n",
       "(9,[0,1,4],[-1.0,...|17939800|1.2415377087236244E7|\n",
       "(9,[0,1,4],[-1.0,...| 6401358|1.2415377087236244E7|\n",
       "(9,[0,1,4],[-1.0,...| 9656136|1.2415377087236244E7|\n",
       "(9,[0,1,4],[-1.0,...|14126353|1.2415377087236244E7|\n",
       "(9,[0,1,4],[-1.0,...|19104055|1.2415377087236244E7|\n",
       "(9,[0,1,4],[-1.0,...| 6401358|1.2415377087236244E7|\n",
       "(9,[0,1,4],[-1.0,...| 6401358|1.2415377087236244E7|\n",
       "(9,[0,1,4],[-1.0,...| 7612963|1.2415377087236244E7|\n",
       "(9,[0,1,4],[-1.0,...| 8096839|1.2415377087236244E7|\n",
       "(9,[0,1,4],[-1.0,...| 9179147|1.2415377087236244E7|\n",
       "(9,[0,1,4],[-1.0,...| 9413514|1.2415377087236244E7|\n",
       "(9,[0,1,4],[-1.0,...|12029950|1.2415377087236244E7|\n",
       "(9,[0,1,4],[-1.0,...|12029950|1.2415377087236244E7|\n",
       "(9,[0,1,4],[-1.0,...|14045687|1.2415377087236244E7|\n",
       "(9,[0,1,4],[-1.0,...|14045687|1.2415377087236244E7|\n",
       "(9,[0,1,4],[-1.0,...|14126353|1.2415377087236244E7|\n",
       "(9,[0,1,4],[-1.0,...|14770807|1.2415377087236244E7|\n",
       "+--------------------+--------+--------------------+\n",
       "only showing top 20 rows\n",
       "\n",
       "</div>"
      ]
     },
     "metadata": {
      "application/vnd.databricks.v1+output": {
       "addedWidgets": {},
       "arguments": {},
       "data": "<div class=\"ansiout\">+--------------------+--------+--------------------+\n|            features|   label|          prediction|\n+--------------------+--------+--------------------+\n|(9,[0,4],[-1.0,1.0])|14124456|1.2415377087236244E7|\n|(9,[0,1,4],[-1.0,...|12242089|1.2415377087236244E7|\n|(9,[0,1,4],[-1.0,...|14770807|1.2415377087236244E7|\n|(9,[0,1,4],[-1.0,...|17939800|1.2415377087236244E7|\n|(9,[0,1,4],[-1.0,...| 6401358|1.2415377087236244E7|\n|(9,[0,1,4],[-1.0,...| 9656136|1.2415377087236244E7|\n|(9,[0,1,4],[-1.0,...|14126353|1.2415377087236244E7|\n|(9,[0,1,4],[-1.0,...|19104055|1.2415377087236244E7|\n|(9,[0,1,4],[-1.0,...| 6401358|1.2415377087236244E7|\n|(9,[0,1,4],[-1.0,...| 6401358|1.2415377087236244E7|\n|(9,[0,1,4],[-1.0,...| 7612963|1.2415377087236244E7|\n|(9,[0,1,4],[-1.0,...| 8096839|1.2415377087236244E7|\n|(9,[0,1,4],[-1.0,...| 9179147|1.2415377087236244E7|\n|(9,[0,1,4],[-1.0,...| 9413514|1.2415377087236244E7|\n|(9,[0,1,4],[-1.0,...|12029950|1.2415377087236244E7|\n|(9,[0,1,4],[-1.0,...|12029950|1.2415377087236244E7|\n|(9,[0,1,4],[-1.0,...|14045687|1.2415377087236244E7|\n|(9,[0,1,4],[-1.0,...|14045687|1.2415377087236244E7|\n|(9,[0,1,4],[-1.0,...|14126353|1.2415377087236244E7|\n|(9,[0,1,4],[-1.0,...|14770807|1.2415377087236244E7|\n+--------------------+--------+--------------------+\nonly showing top 20 rows\n\n</div>",
       "datasetInfos": [],
       "metadata": {},
       "removedWidgets": [],
       "type": "html"
      }
     },
     "output_type": "display_data"
    }
   ],
   "source": [
    "rfpredicts.show()"
   ]
  },
  {
   "cell_type": "code",
   "execution_count": 0,
   "metadata": {
    "application/vnd.databricks.v1+cell": {
     "inputWidgets": {},
     "nuid": "2ecaf8fa-d4fc-40e0-8d71-91b197cc7616",
     "showTitle": false,
     "title": ""
    }
   },
   "outputs": [
    {
     "data": {
      "text/html": [
       "<style scoped>\n",
       "  .ansiout {\n",
       "    display: block;\n",
       "    unicode-bidi: embed;\n",
       "    white-space: pre-wrap;\n",
       "    word-wrap: break-word;\n",
       "    word-break: break-all;\n",
       "    font-family: \"Source Code Pro\", \"Menlo\", monospace;;\n",
       "    font-size: 13px;\n",
       "    color: #555;\n",
       "    margin-left: 4px;\n",
       "    line-height: 19px;\n",
       "  }\n",
       "</style>\n",
       "<div class=\"ansiout\">Out[48]: SparseVector(9, {0: 0.5052, 1: 0.1427, 2: 0.0687, 3: 0.1122, 4: 0.0745, 5: 0.0832, 6: 0.0078, 7: 0.0021, 8: 0.0035})</div>"
      ]
     },
     "metadata": {
      "application/vnd.databricks.v1+output": {
       "addedWidgets": {},
       "arguments": {},
       "data": "<div class=\"ansiout\">Out[48]: SparseVector(9, {0: 0.5052, 1: 0.1427, 2: 0.0687, 3: 0.1122, 4: 0.0745, 5: 0.0832, 6: 0.0078, 7: 0.0021, 8: 0.0035})</div>",
       "datasetInfos": [],
       "metadata": {},
       "removedWidgets": [],
       "type": "html"
      }
     },
     "output_type": "display_data"
    }
   ],
   "source": [
    "rfmodel.featureImportances"
   ]
  },
  {
   "cell_type": "markdown",
   "metadata": {
    "application/vnd.databricks.v1+cell": {
     "inputWidgets": {},
     "nuid": "b29c96b8-e368-4b0a-aafc-c4ee956dc4d9",
     "showTitle": false,
     "title": ""
    }
   },
   "source": [
    "# Gradient boosted MSE"
   ]
  },
  {
   "cell_type": "code",
   "execution_count": 0,
   "metadata": {
    "application/vnd.databricks.v1+cell": {
     "inputWidgets": {},
     "nuid": "94ea5929-2702-47d5-b44c-f13f8f226e60",
     "showTitle": false,
     "title": ""
    }
   },
   "outputs": [
    {
     "data": {
      "text/html": [
       "<style scoped>\n",
       "  .ansiout {\n",
       "    display: block;\n",
       "    unicode-bidi: embed;\n",
       "    white-space: pre-wrap;\n",
       "    word-wrap: break-word;\n",
       "    word-break: break-all;\n",
       "    font-family: \"Source Code Pro\", \"Menlo\", monospace;;\n",
       "    font-size: 13px;\n",
       "    color: #555;\n",
       "    margin-left: 4px;\n",
       "    line-height: 19px;\n",
       "  }\n",
       "</style>\n",
       "<div class=\"ansiout\">Normalized MSE: 846695.766\n",
       "</div>"
      ]
     },
     "metadata": {
      "application/vnd.databricks.v1+output": {
       "addedWidgets": {},
       "arguments": {},
       "data": "<div class=\"ansiout\">Normalized MSE: 846695.766\n</div>",
       "datasetInfos": [],
       "metadata": {},
       "removedWidgets": [],
       "type": "html"
      }
     },
     "output_type": "display_data"
    }
   ],
   "source": [
    "gb = GBTRegressor()\n",
    "gb = GBTRegressor(maxDepth=2, maxIter=10, stepSize=0.01)\n",
    "gbmodel = gb.fit(df_train)\n",
    "gbpredicts = gbmodel.transform(df_test)\n",
    "metric_name = \"mse\"\n",
    "metrics = RegressionEvaluator()\\\n",
    "                .setLabelCol(\"label\")\\\n",
    "                .setPredictionCol(\"prediction\")\n",
    "metrics.setMetricName(metric_name) \n",
    "\n",
    "gb_mse = metrics.evaluate(gbpredicts)\n",
    "disp_normalize_mse(gb_mse, view_mean)"
   ]
  },
  {
   "cell_type": "code",
   "execution_count": 0,
   "metadata": {
    "application/vnd.databricks.v1+cell": {
     "inputWidgets": {},
     "nuid": "d0a99a94-ff1c-465d-b9df-76d4295f85a5",
     "showTitle": false,
     "title": ""
    }
   },
   "outputs": [
    {
     "data": {
      "text/html": [
       "<style scoped>\n",
       "  .ansiout {\n",
       "    display: block;\n",
       "    unicode-bidi: embed;\n",
       "    white-space: pre-wrap;\n",
       "    word-wrap: break-word;\n",
       "    word-break: break-all;\n",
       "    font-family: \"Source Code Pro\", \"Menlo\", monospace;;\n",
       "    font-size: 13px;\n",
       "    color: #555;\n",
       "    margin-left: 4px;\n",
       "    line-height: 19px;\n",
       "  }\n",
       "</style>\n",
       "<div class=\"ansiout\">Out[44]: SparseVector(9, {0: 0.4017, 1: 0.2927, 3: 0.0288, 5: 0.2768})</div>"
      ]
     },
     "metadata": {
      "application/vnd.databricks.v1+output": {
       "addedWidgets": {},
       "arguments": {},
       "data": "<div class=\"ansiout\">Out[44]: SparseVector(9, {0: 0.4017, 1: 0.2927, 3: 0.0288, 5: 0.2768})</div>",
       "datasetInfos": [],
       "metadata": {},
       "removedWidgets": [],
       "type": "html"
      }
     },
     "output_type": "display_data"
    }
   ],
   "source": [
    "gbmodel.featureImportances "
   ]
  },
  {
   "cell_type": "markdown",
   "metadata": {
    "application/vnd.databricks.v1+cell": {
     "inputWidgets": {},
     "nuid": "333bcf69-b7f7-4d69-ba54-3a2442554c4c",
     "showTitle": false,
     "title": ""
    }
   },
   "source": [
    "# Linear Regression"
   ]
  },
  {
   "cell_type": "code",
   "execution_count": 0,
   "metadata": {
    "application/vnd.databricks.v1+cell": {
     "inputWidgets": {},
     "nuid": "ea20fa3e-c966-43be-a338-36099a359eed",
     "showTitle": false,
     "title": ""
    }
   },
   "outputs": [
    {
     "data": {
      "text/html": [
       "<style scoped>\n",
       "  .ansiout {\n",
       "    display: block;\n",
       "    unicode-bidi: embed;\n",
       "    white-space: pre-wrap;\n",
       "    word-wrap: break-word;\n",
       "    word-break: break-all;\n",
       "    font-family: \"Source Code Pro\", \"Menlo\", monospace;;\n",
       "    font-size: 13px;\n",
       "    color: #555;\n",
       "    margin-left: 4px;\n",
       "    line-height: 19px;\n",
       "  }\n",
       "</style>\n",
       "<div class=\"ansiout\">+--------------------+--------+\n",
       "            features|   label|\n",
       "+--------------------+--------+\n",
       "(9,[0,4],[-1.0,1.0])| 8096839|\n",
       "(9,[0,4],[-1.0,1.0])| 9179147|\n",
       "(9,[0,4],[-1.0,1.0])|14023547|\n",
       "+--------------------+--------+\n",
       "only showing top 3 rows\n",
       "\n",
       "</div>"
      ]
     },
     "metadata": {
      "application/vnd.databricks.v1+output": {
       "addedWidgets": {},
       "arguments": {},
       "data": "<div class=\"ansiout\">+--------------------+--------+\n|            features|   label|\n+--------------------+--------+\n|(9,[0,4],[-1.0,1.0])| 8096839|\n|(9,[0,4],[-1.0,1.0])| 9179147|\n|(9,[0,4],[-1.0,1.0])|14023547|\n+--------------------+--------+\nonly showing top 3 rows\n\n</div>",
       "datasetInfos": [],
       "metadata": {},
       "removedWidgets": [],
       "type": "html"
      }
     },
     "output_type": "display_data"
    }
   ],
   "source": [
    "df_train.show(3)"
   ]
  },
  {
   "cell_type": "code",
   "execution_count": 0,
   "metadata": {
    "application/vnd.databricks.v1+cell": {
     "inputWidgets": {},
     "nuid": "bf6c5f92-7df7-4420-a5af-bfb018d45250",
     "showTitle": false,
     "title": ""
    }
   },
   "outputs": [
    {
     "data": {
      "text/html": [
       "<style scoped>\n",
       "  .ansiout {\n",
       "    display: block;\n",
       "    unicode-bidi: embed;\n",
       "    white-space: pre-wrap;\n",
       "    word-wrap: break-word;\n",
       "    word-break: break-all;\n",
       "    font-family: \"Source Code Pro\", \"Menlo\", monospace;;\n",
       "    font-size: 13px;\n",
       "    color: #555;\n",
       "    margin-left: 4px;\n",
       "    line-height: 19px;\n",
       "  }\n",
       "</style>\n",
       "<div class=\"ansiout\"></div>"
      ]
     },
     "metadata": {
      "application/vnd.databricks.v1+output": {
       "addedWidgets": {},
       "arguments": {},
       "data": "<div class=\"ansiout\"></div>",
       "datasetInfos": [],
       "metadata": {},
       "removedWidgets": [],
       "type": "html"
      }
     },
     "output_type": "display_data"
    }
   ],
   "source": [
    "lr = LinearRegression()\n",
    "lrmodel = lr.fit(df_train)\n",
    "\n",
    "trainingSummary = lrmodel.summary"
   ]
  },
  {
   "cell_type": "code",
   "execution_count": 0,
   "metadata": {
    "application/vnd.databricks.v1+cell": {
     "inputWidgets": {},
     "nuid": "e818d6f0-affe-4a4a-bd88-dcac3d66806f",
     "showTitle": false,
     "title": ""
    }
   },
   "outputs": [
    {
     "data": {
      "text/html": [
       "<style scoped>\n",
       "  .ansiout {\n",
       "    display: block;\n",
       "    unicode-bidi: embed;\n",
       "    white-space: pre-wrap;\n",
       "    word-wrap: break-word;\n",
       "    word-break: break-all;\n",
       "    font-family: \"Source Code Pro\", \"Menlo\", monospace;;\n",
       "    font-size: 13px;\n",
       "    color: #555;\n",
       "    margin-left: 4px;\n",
       "    line-height: 19px;\n",
       "  }\n",
       "</style>\n",
       "<div class=\"ansiout\">Out[42]: DenseVector([28.5988, -224.2093, 19472.3817, 64417.1469, -28594.4941, -265221.8078, -154440.4623, 16568.3813, -294766.0986])</div>"
      ]
     },
     "metadata": {
      "application/vnd.databricks.v1+output": {
       "addedWidgets": {},
       "arguments": {},
       "data": "<div class=\"ansiout\">Out[42]: DenseVector([28.5988, -224.2093, 19472.3817, 64417.1469, -28594.4941, -265221.8078, -154440.4623, 16568.3813, -294766.0986])</div>",
       "datasetInfos": [],
       "metadata": {},
       "removedWidgets": [],
       "type": "html"
      }
     },
     "output_type": "display_data"
    }
   ],
   "source": [
    "lrmodel.coefficients"
   ]
  },
  {
   "cell_type": "code",
   "execution_count": 0,
   "metadata": {
    "application/vnd.databricks.v1+cell": {
     "inputWidgets": {},
     "nuid": "b3ee2666-d60d-4137-9a43-764b55f20106",
     "showTitle": false,
     "title": ""
    }
   },
   "outputs": [
    {
     "data": {
      "text/html": [
       "<style scoped>\n",
       "  .ansiout {\n",
       "    display: block;\n",
       "    unicode-bidi: embed;\n",
       "    white-space: pre-wrap;\n",
       "    word-wrap: break-word;\n",
       "    word-break: break-all;\n",
       "    font-family: \"Source Code Pro\", \"Menlo\", monospace;;\n",
       "    font-size: 13px;\n",
       "    color: #555;\n",
       "    margin-left: 4px;\n",
       "    line-height: 19px;\n",
       "  }\n",
       "</style>\n",
       "<div class=\"ansiout\"></div>"
      ]
     },
     "metadata": {
      "application/vnd.databricks.v1+output": {
       "addedWidgets": {},
       "arguments": {},
       "data": "<div class=\"ansiout\"></div>",
       "datasetInfos": [],
       "metadata": {},
       "removedWidgets": [],
       "type": "html"
      }
     },
     "output_type": "display_data"
    }
   ],
   "source": [
    "lr_mse = trainingSummary.meanSquaredError"
   ]
  },
  {
   "cell_type": "code",
   "execution_count": 0,
   "metadata": {
    "application/vnd.databricks.v1+cell": {
     "inputWidgets": {},
     "nuid": "4e08ab07-8bed-4962-b76b-d48be6b7ae68",
     "showTitle": false,
     "title": ""
    }
   },
   "outputs": [
    {
     "data": {
      "text/html": [
       "<style scoped>\n",
       "  .ansiout {\n",
       "    display: block;\n",
       "    unicode-bidi: embed;\n",
       "    white-space: pre-wrap;\n",
       "    word-wrap: break-word;\n",
       "    word-break: break-all;\n",
       "    font-family: \"Source Code Pro\", \"Menlo\", monospace;;\n",
       "    font-size: 13px;\n",
       "    color: #555;\n",
       "    margin-left: 4px;\n",
       "    line-height: 19px;\n",
       "  }\n",
       "</style>\n",
       "<div class=\"ansiout\">Normalized MSE: 846779.410\n",
       "</div>"
      ]
     },
     "metadata": {
      "application/vnd.databricks.v1+output": {
       "addedWidgets": {},
       "arguments": {},
       "data": "<div class=\"ansiout\">Normalized MSE: 846779.410\n</div>",
       "datasetInfos": [],
       "metadata": {},
       "removedWidgets": [],
       "type": "html"
      }
     },
     "output_type": "display_data"
    }
   ],
   "source": [
    "disp_normalize_mse(lr_mse, view_mean)"
   ]
  },
  {
   "cell_type": "code",
   "execution_count": 0,
   "metadata": {
    "application/vnd.databricks.v1+cell": {
     "inputWidgets": {},
     "nuid": "6f86ba68-a675-4b11-8ccb-4719b92a06b3",
     "showTitle": false,
     "title": ""
    }
   },
   "outputs": [
    {
     "data": {
      "text/html": [
       "<style scoped>\n",
       "  .ansiout {\n",
       "    display: block;\n",
       "    unicode-bidi: embed;\n",
       "    white-space: pre-wrap;\n",
       "    word-wrap: break-word;\n",
       "    word-break: break-all;\n",
       "    font-family: \"Source Code Pro\", \"Menlo\", monospace;;\n",
       "    font-size: 13px;\n",
       "    color: #555;\n",
       "    margin-left: 4px;\n",
       "    line-height: 19px;\n",
       "  }\n",
       "</style>\n",
       "<div class=\"ansiout\">267.802 seconds to train and evaluate models\n",
       "</div>"
      ]
     },
     "metadata": {
      "application/vnd.databricks.v1+output": {
       "addedWidgets": {},
       "arguments": {},
       "data": "<div class=\"ansiout\">267.802 seconds to train and evaluate models\n</div>",
       "datasetInfos": [],
       "metadata": {},
       "removedWidgets": [],
       "type": "html"
      }
     },
     "output_type": "display_data"
    }
   ],
   "source": [
    "end = time.time()\n",
    "print(f\"{end - start:.3f} seconds to train and evaluate models\")"
   ]
  },
  {
   "cell_type": "code",
   "execution_count": 0,
   "metadata": {
    "application/vnd.databricks.v1+cell": {
     "inputWidgets": {},
     "nuid": "83542aca-416f-4beb-89dd-c5cd0e8bf9f1",
     "showTitle": false,
     "title": ""
    }
   },
   "outputs": [
    {
     "data": {
      "text/html": [
       "<style scoped>\n",
       "  .ansiout {\n",
       "    display: block;\n",
       "    unicode-bidi: embed;\n",
       "    white-space: pre-wrap;\n",
       "    word-wrap: break-word;\n",
       "    word-break: break-all;\n",
       "    font-family: \"Source Code Pro\", \"Menlo\", monospace;;\n",
       "    font-size: 13px;\n",
       "    color: #555;\n",
       "    margin-left: 4px;\n",
       "    line-height: 19px;\n",
       "  }\n",
       "</style>\n",
       "<div class=\"ansiout\"></div>"
      ]
     },
     "metadata": {
      "application/vnd.databricks.v1+output": {
       "addedWidgets": {},
       "arguments": {},
       "data": "<div class=\"ansiout\"></div>",
       "datasetInfos": [],
       "metadata": {},
       "removedWidgets": [],
       "type": "html"
      }
     },
     "output_type": "display_data"
    }
   ],
   "source": [
    "sc.stop()\n",
    "ss.stop()"
   ]
  },
  {
   "cell_type": "code",
   "execution_count": 0,
   "metadata": {
    "application/vnd.databricks.v1+cell": {
     "inputWidgets": {},
     "nuid": "0dffb2e7-2b5a-472e-9fc3-275e30a73e1a",
     "showTitle": false,
     "title": ""
    }
   },
   "outputs": [],
   "source": []
  }
 ],
 "metadata": {
  "application/vnd.databricks.v1+notebook": {
   "dashboards": [],
   "language": "python",
   "notebookMetadata": {
    "pythonIndentUnit": 4
   },
   "notebookName": "sentiment_analyzer_v2",
   "notebookOrigID": 3164413804758187,
   "widgets": {}
  },
  "kernelspec": {
   "display_name": "Python 3",
   "language": "python",
   "name": "python3"
  },
  "language_info": {
   "codemirror_mode": {
    "name": "ipython",
    "version": 3
   },
   "file_extension": ".py",
   "mimetype": "text/x-python",
   "name": "python",
   "nbconvert_exporter": "python",
   "pygments_lexer": "ipython3",
   "version": "3.9.10"
  }
 },
 "nbformat": 4,
 "nbformat_minor": 1
}
