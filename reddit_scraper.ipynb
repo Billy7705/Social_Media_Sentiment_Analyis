{
 "cells": [
  {
   "cell_type": "code",
   "execution_count": 1,
   "id": "4a47faec",
   "metadata": {},
   "outputs": [],
   "source": [
    "import requests\n",
    "import json"
   ]
  },
  {
   "cell_type": "code",
   "execution_count": 2,
   "id": "d3d6e116",
   "metadata": {},
   "outputs": [],
   "source": [
    "def get_url(after, before):\n",
    "    return 'https://api.pushshift.io/reddit/search/comment/?q=rogan&after={after}d&before={before}d&sort=asc&limit=1000000'.format(after=after, before=before)"
   ]
  },
  {
   "cell_type": "code",
   "execution_count": 3,
   "id": "fa331b3f",
   "metadata": {},
   "outputs": [],
   "source": [
    "output = ['date,text']"
   ]
  },
  {
   "cell_type": "code",
   "execution_count": null,
   "id": "734b29d2",
   "metadata": {},
   "outputs": [],
   "source": [
    "n = 0"
   ]
  },
  {
   "cell_type": "code",
   "execution_count": null,
   "id": "153157d4",
   "metadata": {},
   "outputs": [],
   "source": [
    "after = '2'\n",
    "before = '1'"
   ]
  },
  {
   "cell_type": "code",
   "execution_count": 66,
   "id": "2c821917",
   "metadata": {},
   "outputs": [
    {
     "name": "stdout",
     "output_type": "stream",
     "text": [
      "400\n"
     ]
    }
   ],
   "source": [
    "while n < 500:\n",
    "    url = get_url(after, before)\n",
    "    r = requests.get(url).text\n",
    "    if n % 100 == 0:\n",
    "        print(n)\n",
    "    try:\n",
    "        j = json.loads(r)\n",
    "        for i in range(len(j['data'])):\n",
    "            text = j['data'][i]['body']\n",
    "            date = str(j['data'][i]['created_utc'])\n",
    "            output.append('{date},{text}'.format(date=date, text=text))\n",
    "        after = str(int(after) + 1)\n",
    "        before = str(int(before) + 1)\n",
    "    except:\n",
    "        after = str(int(after) + 1)\n",
    "        before = str(int(before) + 1)\n",
    "    n += 1"
   ]
  },
  {
   "cell_type": "code",
   "execution_count": 82,
   "id": "8da40cf2",
   "metadata": {},
   "outputs": [],
   "source": [
    "with open('rogan_reddit_comments.txt', 'w+') as f:\n",
    "    f.write(s)"
   ]
  },
  {
   "cell_type": "code",
   "execution_count": null,
   "id": "2011e593",
   "metadata": {},
   "outputs": [],
   "source": []
  }
 ],
 "metadata": {
  "kernelspec": {
   "display_name": "Python 3",
   "language": "python",
   "name": "python3"
  },
  "language_info": {
   "codemirror_mode": {
    "name": "ipython",
    "version": 3
   },
   "file_extension": ".py",
   "mimetype": "text/x-python",
   "name": "python",
   "nbconvert_exporter": "python",
   "pygments_lexer": "ipython3",
   "version": "3.9.10"
  }
 },
 "nbformat": 4,
 "nbformat_minor": 5
}
